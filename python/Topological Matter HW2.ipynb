{
 "cells": [
  {
   "cell_type": "code",
   "execution_count": 1,
   "metadata": {
    "collapsed": true
   },
   "outputs": [],
   "source": [
    "import numpy as np\n",
    "import matplotlib.pyplot as plt\n",
    "%matplotlib inline\n",
    "import scipy as sp\n",
    "from scipy import linalg"
   ]
  },
  {
   "cell_type": "markdown",
   "metadata": {},
   "source": [
    "A circulant matrix is a matrix that has circularly shifted rows or columns. This kind of matrix is the right kind to describe a translation invariant periodic system.\n",
    "\n",
    "linalg.circulant takes the first column of the matrix as an argument and produces the corresponding circulant matrix\n",
    "\n",
    "Refs:\n",
    "https://en.wikipedia.org/wiki/Circulant_matrix\n",
    "https://docs.scipy.org/doc/scipy-0.18.1/reference/generated/scipy.linalg.circulant.html"
   ]
  },
  {
   "cell_type": "code",
   "execution_count": 2,
   "metadata": {
    "collapsed": false
   },
   "outputs": [
    {
     "name": "stdout",
     "output_type": "stream",
     "text": [
      "[[5 8 1 3]\n",
      " [3 5 8 1]\n",
      " [1 3 5 8]\n",
      " [8 1 3 5]]\n"
     ]
    }
   ],
   "source": [
    "firstcol = np.array([5,3,1,8])\n",
    "C = linalg.circulant(firstcol)\n",
    "print(C)"
   ]
  },
  {
   "cell_type": "markdown",
   "metadata": {},
   "source": [
    "Build the matrix for equations of motion for N balls of mass m and spring constant k placed into a loop."
   ]
  },
  {
   "cell_type": "code",
   "execution_count": null,
   "metadata": {
    "collapsed": true
   },
   "outputs": [],
   "source": [
    "N = 10\n",
    "k = 1.0\n",
    "m = 1.0\n",
    "\n",
    "#uncomment the following line and fill in the first column\n",
    "#firstcol = np.array([   ])\n",
    "K = linalg.circulant(firstcol)"
   ]
  },
  {
   "cell_type": "code",
   "execution_count": null,
   "metadata": {
    "collapsed": true
   },
   "outputs": [],
   "source": []
  }
 ],
 "metadata": {
  "kernelspec": {
   "display_name": "Python 3",
   "language": "python",
   "name": "python3"
  },
  "language_info": {
   "codemirror_mode": {
    "name": "ipython",
    "version": 3
   },
   "file_extension": ".py",
   "mimetype": "text/x-python",
   "name": "python",
   "nbconvert_exporter": "python",
   "pygments_lexer": "ipython3",
   "version": "3.5.1"
  }
 },
 "nbformat": 4,
 "nbformat_minor": 2
}
