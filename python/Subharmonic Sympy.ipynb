{
 "cells": [
  {
   "cell_type": "code",
   "execution_count": 1,
   "metadata": {
    "collapsed": true
   },
   "outputs": [],
   "source": [
    "import sympy"
   ]
  },
  {
   "cell_type": "code",
   "execution_count": 5,
   "metadata": {
    "collapsed": true
   },
   "outputs": [],
   "source": [
    "from sympy import *\n",
    "init_printing()"
   ]
  },
  {
   "cell_type": "code",
   "execution_count": 9,
   "metadata": {
    "collapsed": false
   },
   "outputs": [
    {
     "data": {
      "image/png": "[encoded data removed]",
      "text/latex": [
       "$$- \\sin{\\left (x \\right )}$$"
      ],
      "text/plain": [
       "-sin(x)"
      ]
     },
     "execution_count": 9,
     "metadata": {},
     "output_type": "execute_result"
    }
   ],
   "source": [
    "x= symbols('x')\n",
    "diff(sin(x),x,x)"
   ]
  },
  {
   "cell_type": "code",
   "execution_count": 13,
   "metadata": {
    "collapsed": true
   },
   "outputs": [],
   "source": [
    "def diffeq(f,t):\n",
    "    return diff(f,t,t) + f + f**3 + cos(t)\n"
   ]
  },
  {
   "cell_type": "code",
   "execution_count": 8,
   "metadata": {
    "collapsed": true
   },
   "outputs": [],
   "source": [
    "f = Function('f')\n",
    "t = Symbol('t')"
   ]
  },
  {
   "cell_type": "code",
   "execution_count": 16,
   "metadata": {
    "collapsed": false
   },
   "outputs": [],
   "source": [
    "e1 = diffeq(f(t),t)"
   ]
  },
  {
   "cell_type": "code",
   "execution_count": 15,
   "metadata": {
    "collapsed": true
   },
   "outputs": [],
   "source": [
    "A, omega = symbols('A \\omega')"
   ]
  },
  {
   "cell_type": "code",
   "execution_count": 18,
   "metadata": {
    "collapsed": false
   },
   "outputs": [],
   "source": [
    "e2 = e1.subs(f(t), A * cos(omega * t))"
   ]
  },
  {
   "cell_type": "code",
   "execution_count": 20,
   "metadata": {
    "collapsed": false
   },
   "outputs": [
    {
     "data": {
      "image/png": "[encoded data removed]",
      "text/latex": [
       "$$A^{3} \\cos^{3}{\\left (\\omega t \\right )} + A \\cos{\\left (\\omega t \\right )} + \\cos{\\left (t \\right )} + \\frac{\\partial^{2}}{\\partial t^{2}} \\left(A \\cos{\\left (\\omega t \\right )}\\right)$$"
      ],
      "text/plain": [
       "                                                 2                 \n",
       " 3    3                                         ∂                  \n",
       "A ⋅cos (\\omega⋅t) + A⋅cos(\\omega⋅t) + cos(t) + ───(A⋅cos(\\omega⋅t))\n",
       "                                                 2                 \n",
       "                                               ∂t                  "
      ]
     },
     "execution_count": 20,
     "metadata": {},
     "output_type": "execute_result"
    }
   ],
   "source": [
    "e2"
   ]
  },
  {
   "cell_type": "code",
   "execution_count": 19,
   "metadata": {
    "collapsed": false
   },
   "outputs": [
    {
     "data": {
      "image/png": "[encoded data removed]",
      "text/latex": [
       "$$A^{3} \\cos^{3}{\\left (\\omega t \\right )} + A \\cos{\\left (\\omega t \\right )} + \\cos{\\left (t \\right )} + \\frac{\\partial^{2}}{\\partial t^{2}} \\left(A \\cos{\\left (\\omega t \\right )}\\right)$$"
      ],
      "text/plain": [
       "                                                 2                 \n",
       " 3    3                                         ∂                  \n",
       "A ⋅cos (\\omega⋅t) + A⋅cos(\\omega⋅t) + cos(t) + ───(A⋅cos(\\omega⋅t))\n",
       "                                                 2                 \n",
       "                                               ∂t                  "
      ]
     },
     "execution_count": 19,
     "metadata": {},
     "output_type": "execute_result"
    }
   ],
   "source": [
    "e2.simplify()"
   ]
  },
  {
   "cell_type": "code",
   "execution_count": null,
   "metadata": {
    "collapsed": true
   },
   "outputs": [],
   "source": []
  }
 ],
 "metadata": {
  "kernelspec": {
   "display_name": "Python 3",
   "language": "python",
   "name": "python3"
  },
  "language_info": {
   "codemirror_mode": {
    "name": "ipython",
    "version": 3
   },
   "file_extension": ".py",
   "mimetype": "text/x-python",
   "name": "python",
   "nbconvert_exporter": "python",
   "pygments_lexer": "ipython3",
   "version": "3.5.1"
  }
 },
 "nbformat": 4,
 "nbformat_minor": 2
}
