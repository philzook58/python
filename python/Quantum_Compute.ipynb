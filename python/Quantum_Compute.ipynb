{
 "cells": [
  {
   "cell_type": "code",
   "execution_count": 84,
   "metadata": {},
   "outputs": [],
   "source": [
    "class UnitVec():\n",
    "    pass\n",
    "\n",
    "def IntVec():\n",
    "    def __init__(self, labelfun, amps):\n",
    "        pass\n",
    "class ListVec(list):\n",
    "    ''' VecList stores vector in form [(vec, amp)]'''\n",
    "    def bind(self,f):\n",
    "        retvec = ListVec()\n",
    "        for k,a1 in self:\n",
    "             retvec += map(lambda k2, a2: (k2,a2 * a1) , f(k))\n",
    "        return retvec\n",
    "    def fmap(self,f):\n",
    "        return ListVec([(f(k), a) for k,a in self])\n",
    "    def lookup(self, key):\n",
    "        for k,a in self:\n",
    "            if k == key:\n",
    "                return a\n",
    "    def unit(key):\n",
    "        return ListVec([(key,1.0)])\n",
    "            \n",
    "class HashVec(dict):\n",
    "    pass\n",
    "#Trick a: We can use Kron to replace scalar multiplication\n",
    "\n",
    "class KronVec(tuple):\n",
    "    def __new__(self, a , b):\n",
    "        return tuple.__new__(self, (a, b))\n",
    "    def fst(self):\n",
    "        return self[0]\n",
    "    def tensor(self): #This is assuming we have bare lists?\n",
    "        return ListVec([ ((k1,k2), a1 * a2) for k1,a1 in self[0] for k2,a2 in self[1]])\n",
    "    def _ab_c(self):\n",
    "        return KronVec( self[0][0],  KronVec(self[0][1], self[1]))\n",
    "    def a_bc_(self):\n",
    "        return KronVec(KronVec(self[0],self[1][0]), self[1][1])\n",
    "    def __iter__(self):\n",
    "        return self.tensor().__iter__()\n",
    "    def lmap(self, f):\n",
    "        return KronVec(f(self[0]), self[1])\n",
    "    def rmap(self, f):\n",
    "        return KronVec(self[0], f(self[1]))\n",
    "             \n",
    "#KronVec = namedtuple('KronVec', ('a','b'))\n",
    "    # A holder for (v1,v2) pairs\n",
    "    \n",
    "class KronList(list):\n",
    "    pass\n",
    "\n",
    "def qubits(n):\n",
    "    nullvec = ListVec.unit(0)\n",
    "    if n > 1:\n",
    "        return KronVec( nullvec, qubits(n-1))\n",
    "    else:\n",
    "        return nullvec\n",
    "\n",
    "\n",
    "def cnot(g1, g2):\n",
    "    def cnot2(label):\n",
    "        label[g2] = label[g2] != label[g1] #not equal is xor\n",
    "        return label\n",
    "    return cnot2\n",
    "\n",
    "def unit(label):\n",
    "    return [(label, 1.0)]\n",
    "def liftM(f):\n",
    "    return lambda label: unit(f(label))\n",
    "\n",
    "def qcnot(g1, g2):\n",
    "    return liftM(cnot(g1,g2))\n",
    "def bind(v,f):\n",
    "    return [f()]\n",
    "\n",
    "def kron():\n",
    "    pass\n",
    "    \n",
    "def tensor():\n",
    "    pass# Take a kroned object and pushes the pairing inside\n",
    "    \n",
    "def assoc():\n",
    "    pass#reassociates the untensed kron\n",
    "    "
   ]
  },
  {
   "cell_type": "code",
   "execution_count": 1,
   "metadata": {
    "collapsed": true
   },
   "outputs": [],
   "source": [
    "from collections import namedtuple\n"
   ]
  },
  {
   "cell_type": "code",
   "execution_count": 9,
   "metadata": {},
   "outputs": [
    {
     "data": {
      "text/plain": [
       "2.0"
      ]
     },
     "execution_count": 9,
     "metadata": {},
     "output_type": "execute_result"
    }
   ],
   "source": [
    "ListVec([('a',2.0)]).lookup('a')"
   ]
  },
  {
   "cell_type": "code",
   "execution_count": 11,
   "metadata": {},
   "outputs": [
    {
     "data": {
      "text/plain": [
       "1.0"
      ]
     },
     "execution_count": 11,
     "metadata": {},
     "output_type": "execute_result"
    }
   ],
   "source": [
    "ListVec.unit('a').lookup('a')"
   ]
  },
  {
   "cell_type": "code",
   "execution_count": 36,
   "metadata": {},
   "outputs": [
    {
     "data": {
      "text/plain": [
       "[(('a', 'c'), 10.0),\n",
       " (('a', 'd'), 6.0),\n",
       " (('b', 'c'), 15.0),\n",
       " (('b', 'd'), 9.0),\n",
       " (('e', 'c'), 15.0),\n",
       " (('e', 'd'), 9.0)]"
      ]
     },
     "execution_count": 36,
     "metadata": {},
     "output_type": "execute_result"
    }
   ],
   "source": [
    "KronVec(ListVec([('a',2.0), ('b',3.0),('e',3.0)]),  ListVec([('c',5.0), ('d',3.0)]) ).tensor()"
   ]
  },
  {
   "cell_type": "code",
   "execution_count": 42,
   "metadata": {},
   "outputs": [
    {
     "name": "stdout",
     "output_type": "stream",
     "text": [
      "('a', 'c')\n",
      "('a', 'd')\n",
      "('b', 'c')\n",
      "('b', 'd')\n",
      "('e', 'c')\n",
      "('e', 'd')\n"
     ]
    }
   ],
   "source": [
    "vec = KronVec(ListVec([('a',2.0), ('b',3.0),('e',3.0)]),  ListVec([('c',5.0), ('d',3.0)]) )\n",
    "for k, a in vec:\n",
    "    print(k)"
   ]
  },
  {
   "cell_type": "code",
   "execution_count": 65,
   "metadata": {},
   "outputs": [
    {
     "data": {
      "text/plain": [
       "(((0, (0, 0)), 1.0))"
      ]
     },
     "execution_count": 65,
     "metadata": {},
     "output_type": "execute_result"
    }
   ],
   "source": [
    "qubits(4)"
   ]
  },
  {
   "cell_type": "code",
   "execution_count": 69,
   "metadata": {},
   "outputs": [
    {
     "data": {
      "text/plain": [
       "[(3, 1.0)]"
      ]
     },
     "execution_count": 69,
     "metadata": {},
     "output_type": "execute_result"
    }
   ],
   "source": [
    "ListVec.unit(0).lift(lambda x: x)"
   ]
  },
  {
   "cell_type": "code",
   "execution_count": 76,
   "metadata": {
    "collapsed": true
   },
   "outputs": [],
   "source": [
    "def classical_cnot(c):\n",
    "    a,b = c\n",
    "    return (a , (a+b) % 2)"
   ]
  },
  {
   "cell_type": "code",
   "execution_count": 77,
   "metadata": {},
   "outputs": [
    {
     "data": {
      "text/plain": [
       "(1, 0)"
      ]
     },
     "execution_count": 77,
     "metadata": {},
     "output_type": "execute_result"
    }
   ],
   "source": [
    "classical_cnot((1,1))"
   ]
  },
  {
   "cell_type": "code",
   "execution_count": 88,
   "metadata": {},
   "outputs": [
    {
     "data": {
      "text/plain": [
       "[((1, 0), 1.0)]"
      ]
     },
     "execution_count": 88,
     "metadata": {},
     "output_type": "execute_result"
    }
   ],
   "source": [
    "qubits(2).lmap(lambda a: a.fmap(lambda z : z +1)).tensor().fmap(classical_cnot)\n",
    "qubits(2).lmap(lambda a: a.fmap(lambda z : z +1)).tensor().fmap(classical_cnot).fmap(classical_cnot)"
   ]
  },
  {
   "cell_type": "markdown",
   "metadata": {},
   "source": [
    "why not use a hash vect? Because of the immutable requirement? But we cna use object id?"
   ]
  },
  {
   "cell_type": "markdown",
   "metadata": {},
   "source": [
    "Interesting... Factorization of classical expression can be very useful.\n",
    "shannon expansion?\n",
    "BDD?\n",
    "You kind of want them sepearated into don't care blocks. forall?\n",
    "the doesn't matter does allows for us to maintain kron form?\n",
    "\n",
    "Yea. I kind of want to index bits"
   ]
  }
 ],
 "metadata": {
  "kernelspec": {
   "display_name": "Python 3",
   "language": "python",
   "name": "python3"
  },
  "language_info": {
   "codemirror_mode": {
    "name": "ipython",
    "version": 3
   },
   "file_extension": ".py",
   "mimetype": "text/x-python",
   "name": "python",
   "nbconvert_exporter": "python",
   "pygments_lexer": "ipython3",
   "version": "3.6.2"
  }
 },
 "nbformat": 4,
 "nbformat_minor": 2
}
