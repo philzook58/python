{
 "cells": [
  {
   "cell_type": "code",
   "execution_count": 1,
   "metadata": {
    "collapsed": true
   },
   "outputs": [],
   "source": [
    "import numpy as np\n",
    "import meshpy\n",
    "import meshpy.triangle as tri\n",
    "import matplotlib.pyplot as plt\n",
    "from scipy.linalg import eigvalsh, eigh\n",
    "%matplotlib inline"
   ]
  },
  {
   "cell_type": "code",
   "execution_count": 2,
   "metadata": {
    "collapsed": true
   },
   "outputs": [],
   "source": [
    "mesh_info = tri.MeshInfo()\n",
    "mesh_info.set_points([[0,0],\n",
    "               [0,1],\n",
    "               [1,1],\n",
    "               [1,0]])\n",
    "mesh_info.set_facets([[0,1],[1,2],[2,3],[3,0]])\n",
    "def needs_refinement(vertex,area):\n",
    "    return area > 0.1\n",
    "mesh = tri.build(mesh_info,refinement_func=needs_refinement)"
   ]
  },
  {
   "cell_type": "code",
   "execution_count": 3,
   "metadata": {
    "collapsed": false
   },
   "outputs": [
    {
     "data": {
      "text/plain": [
       "[<matplotlib.lines.Line2D at 0x10eaae860>,\n",
       " <matplotlib.lines.Line2D at 0x10eaaeac8>]"
      ]
     },
     "execution_count": 3,
     "metadata": {},
     "output_type": "execute_result"
    },
    {
     "data": {
      "image/png": "[encoded data removed]",
      "text/plain": [
       "<matplotlib.figure.Figure at 0x10e8e5b38>"
      ]
     },
     "metadata": {},
     "output_type": "display_data"
    }
   ],
   "source": [
    "mesh_points = np.array(mesh.points)\n",
    "mesh_tris = np.array(mesh.elements)\n",
    "\n",
    "plt.triplot(mesh_points[:, 0], mesh_points[:, 1], mesh_tris)"
   ]
  },
  {
   "cell_type": "code",
   "execution_count": 26,
   "metadata": {
    "collapsed": false
   },
   "outputs": [
    {
     "ename": "IndexError",
     "evalue": "too many indices for array",
     "output_type": "error",
     "traceback": [
      "\u001b[0;31m---------------------------------------------------------------------------\u001b[0m",
      "\u001b[0;31mIndexError\u001b[0m                                Traceback (most recent call last)",
      "\u001b[0;32m<ipython-input-26-362212e9b11c>\u001b[0m in \u001b[0;36m<module>\u001b[0;34m()\u001b[0m\n\u001b[1;32m     47\u001b[0m \u001b[0mB\u001b[0m \u001b[0;34m=\u001b[0m \u001b[0mK\u001b[0m\u001b[0;34m[\u001b[0m\u001b[0mkronindex\u001b[0m\u001b[0;34m(\u001b[0m\u001b[0mborderindices\u001b[0m\u001b[0;34m,\u001b[0m \u001b[0minteriorindices\u001b[0m\u001b[0;34m)\u001b[0m\u001b[0;34m]\u001b[0m\u001b[0;34m\u001b[0m\u001b[0m\n\u001b[1;32m     48\u001b[0m \u001b[0mC\u001b[0m \u001b[0;34m=\u001b[0m \u001b[0mK\u001b[0m\u001b[0;34m[\u001b[0m\u001b[0mkronindex\u001b[0m\u001b[0;34m(\u001b[0m\u001b[0minteriorindices\u001b[0m\u001b[0;34m,\u001b[0m \u001b[0mborderindices\u001b[0m\u001b[0;34m)\u001b[0m\u001b[0;34m]\u001b[0m\u001b[0;34m\u001b[0m\u001b[0m\n\u001b[0;32m---> 49\u001b[0;31m \u001b[0mD\u001b[0m \u001b[0;34m=\u001b[0m \u001b[0mK\u001b[0m\u001b[0;34m[\u001b[0m\u001b[0mkronindex\u001b[0m\u001b[0;34m(\u001b[0m\u001b[0minteriorindices\u001b[0m\u001b[0;34m,\u001b[0m \u001b[0minteriorindices\u001b[0m\u001b[0;34m)\u001b[0m\u001b[0;34m]\u001b[0m\u001b[0;34m\u001b[0m\u001b[0m\n\u001b[0m\u001b[1;32m     50\u001b[0m \u001b[0mprint\u001b[0m\u001b[0;34m(\u001b[0m\u001b[0mC\u001b[0m\u001b[0;34m.\u001b[0m\u001b[0mshape\u001b[0m\u001b[0;34m)\u001b[0m\u001b[0;34m\u001b[0m\u001b[0m\n\u001b[1;32m     51\u001b[0m \u001b[0mKprime\u001b[0m \u001b[0;34m=\u001b[0m \u001b[0mA\u001b[0m \u001b[0;34m-\u001b[0m \u001b[0mB\u001b[0m \u001b[0;34m@\u001b[0m \u001b[0mnp\u001b[0m\u001b[0;34m.\u001b[0m\u001b[0mlinalg\u001b[0m\u001b[0;34m.\u001b[0m\u001b[0minv\u001b[0m\u001b[0;34m(\u001b[0m\u001b[0mD\u001b[0m\u001b[0;34m)\u001b[0m \u001b[0;34m@\u001b[0m \u001b[0mC\u001b[0m\u001b[0;34m\u001b[0m\u001b[0m\n",
      "\u001b[0;31mIndexError\u001b[0m: too many indices for array"
     ]
    }
   ],
   "source": [
    "N = mesh_points.shape[0]\n",
    "K = np.zeros((N,N))\n",
    "A = np.zeros((N,N))\n",
    "points = mesh_points\n",
    "norm = np.linalg.norm\n",
    "\n",
    "def isBorder(point):\n",
    "    x = point[0]\n",
    "    y = point[1]\n",
    "    return x > 0.99 or x < 0.01 or y > 0.99 or y < 0.01\n",
    "\n",
    "for triangle in  mesh_tris:\n",
    "    for i in range(3):\n",
    "        # indices of points in triangles\n",
    "        a = triangle[i-1]\n",
    "        b = triangle[i]\n",
    "        c = triangle[i-2]\n",
    "        \n",
    "        # the two vectors emanating from c\n",
    "        ac = points[a] - points[c]        \n",
    "        bc = points[b] - points[c]\n",
    "        \n",
    "        # can acutally avoid the normalization since it cancels in amp anyhow\n",
    "        cosalph = np.abs(np.dot(ac,bc)) # / norm(ac) / norm(bc)\n",
    "        sinalph = norm(np.cross(ac,bc)) # / norm(ac) / norm(bc)\n",
    "        amp = cosalph / sinalph\n",
    "        \n",
    "        \n",
    "        K[a,b] += amp\n",
    "        K[b,a] += amp\n",
    "        K[a,a] += -1 * amp\n",
    "        K[b,b] += -1 * amp\n",
    "        '''\n",
    "for i, point in enumerate(mesh_points):\n",
    "    if isBorder(point):\n",
    "        print(\"border point\")\n",
    "        K[i,i]=0\n",
    "        K[i,:]=0\n",
    "        K[:,i]=0\n",
    "        '''\n",
    "borderindices = [i for i,point in enumerate(mesh_points) if isBorder(point)]\n",
    "interiorindices = [i for i,point in enumerate(mesh_points) if not isBorder(point)]\n",
    "borderkron = [(i,j) for i in borderindices for j in borderindices]\n",
    "def kronindex(a, b):\n",
    "    return [(i,j) for i in a for j in b]\n",
    "A = K[borderkron]\n",
    "B = K[kronindex(borderindices, interiorindices)] \n",
    "C = K[kronindex(interiorindices, borderindices)]\n",
    "D = K[kronindex(interiorindices, interiorindices)]\n",
    "print(C.shape)\n",
    "Kprime = A - B @ np.linalg.inv(D) @ C\n",
    "\n",
    "K = K/2\n",
    "energies, funcs = eigh(K)\n",
    "n, bins, patches = plt.hist(energies, 300, normed=1, facecolor='green', alpha=0.75)\n",
    "print(energies[-30:])\n",
    "\n",
    "        \n"
   ]
  },
  {
   "cell_type": "code",
   "execution_count": 5,
   "metadata": {
    "collapsed": false
   },
   "outputs": [
    {
     "name": "stdout",
     "output_type": "stream",
     "text": [
      "[[ 0.  0.  0.  0.  0.  0.  0.  0.  0.  0.  0.  0.  0.]\n",
      " [ 0.  0.  0.  0.  0.  0.  0.  0.  0.  0.  0.  0.  0.]\n",
      " [ 0.  0.  0.  0.  0.  0.  0.  0.  0.  0.  0.  0.  0.]\n",
      " [ 0.  0.  0.  0.  0.  0.  0.  0.  0.  0.  0.  0.  0.]\n",
      " [ 0.  0.  0.  0. -4.  0.  0.  0.  1.  0.  1.  1.  1.]\n",
      " [ 0.  0.  0.  0.  0.  0.  0.  0.  0.  0.  0.  0.  0.]\n",
      " [ 0.  0.  0.  0.  0.  0.  0.  0.  0.  0.  0.  0.  0.]\n",
      " [ 0.  0.  0.  0.  0.  0.  0.  0.  0.  0.  0.  0.  0.]\n",
      " [ 0.  0.  0.  0.  1.  0.  0.  0. -4.  0.  0.  0.  0.]\n",
      " [ 0.  0.  0.  0.  0.  0.  0.  0.  0.  0.  0.  0.  0.]\n",
      " [ 0.  0.  0.  0.  1.  0.  0.  0.  0.  0. -4.  0.  0.]\n",
      " [ 0.  0.  0.  0.  1.  0.  0.  0.  0.  0.  0. -4.  0.]\n",
      " [ 0.  0.  0.  0.  1.  0.  0.  0.  0.  0.  0.  0. -4.]]\n"
     ]
    }
   ],
   "source": [
    "print(K)"
   ]
  },
  {
   "cell_type": "code",
   "execution_count": 6,
   "metadata": {
    "collapsed": true
   },
   "outputs": [],
   "source": [
    "borderindices = [i for i,point in enumerate(mesh_points) if isBorder(point)]"
   ]
  },
  {
   "cell_type": "code",
   "execution_count": 25,
   "metadata": {
    "collapsed": false
   },
   "outputs": [
    {
     "name": "stdout",
     "output_type": "stream",
     "text": [
      "[(4, 4), (4, 8), (4, 10), (4, 11), (4, 12), (8, 4), (8, 8), (8, 10), (8, 11), (8, 12), (10, 4), (10, 8), (10, 10), (10, 11), (10, 12), (11, 4), (11, 8), (11, 10), (11, 11), (11, 12), (12, 4), (12, 8), (12, 10), (12, 11), (12, 12)]\n"
     ]
    }
   ],
   "source": [
    "print(kronindex(interiorindices, interiorindices))"
   ]
  },
  {
   "cell_type": "code",
   "execution_count": 15,
   "metadata": {
    "collapsed": false
   },
   "outputs": [
    {
     "data": {
      "text/plain": [
       "array([[[-1.,  0.,  0., ...,  0.,  0.,  0.],\n",
       "        [-1.,  0.,  0., ...,  0.,  0.,  0.]],\n",
       "\n",
       "       [[-1.,  0.,  0., ...,  0.,  0.,  0.],\n",
       "        [ 0., -1.,  0., ...,  1.,  0.,  0.]],\n",
       "\n",
       "       [[-1.,  0.,  0., ...,  0.,  0.,  0.],\n",
       "        [ 0.,  0., -1., ...,  0.,  1.,  0.]],\n",
       "\n",
       "       ..., \n",
       "       [[ 0.,  0.,  0., ...,  0.,  1.,  1.],\n",
       "        [ 0.,  0.,  0., ...,  0.,  0.,  1.]],\n",
       "\n",
       "       [[ 0.,  0.,  0., ...,  0.,  1.,  1.],\n",
       "        [ 0.,  0.,  0., ...,  1.,  1.,  0.]],\n",
       "\n",
       "       [[ 0.,  0.,  0., ...,  0.,  1.,  1.],\n",
       "        [ 0.,  0.,  0., ...,  0.,  1.,  1.]]])"
      ]
     },
     "execution_count": 15,
     "metadata": {},
     "output_type": "execute_result"
    }
   ],
   "source": [
    "K[borderkron]"
   ]
  },
  {
   "cell_type": "code",
   "execution_count": null,
   "metadata": {
    "collapsed": true
   },
   "outputs": [],
   "source": []
  }
 ],
 "metadata": {
  "kernelspec": {
   "display_name": "Python 3",
   "language": "python",
   "name": "python3"
  },
  "language_info": {
   "codemirror_mode": {
    "name": "ipython",
    "version": 3
   },
   "file_extension": ".py",
   "mimetype": "text/x-python",
   "name": "python",
   "nbconvert_exporter": "python",
   "pygments_lexer": "ipython3",
   "version": "3.5.1"
  }
 },
 "nbformat": 4,
 "nbformat_minor": 2
}
