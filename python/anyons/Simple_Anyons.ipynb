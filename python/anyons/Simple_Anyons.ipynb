{
 "cells": [
  {
   "cell_type": "markdown",
   "metadata": {},
   "source": [
    "Some preliminary thoughts:\n",
    "Do simplest thing first. Keep things in left tree basis.\n",
    "The HashVect is a nice idea, but it is to difficult and annoying to use tuples as a basis\n"
   ]
  },
  {
   "cell_type": "code",
   "execution_count": 29,
   "metadata": {
    "collapsed": true
   },
   "outputs": [],
   "source": [
    "from collections import namedtuple\n",
    "import numpy as np"
   ]
  },
  {
   "cell_type": "code",
   "execution_count": 13,
   "metadata": {
    "collapsed": true
   },
   "outputs": [],
   "source": [
    "TreeLabel = namedtuple( \"TreeLabel\" , ['stalk', 'leaves'])\n"
   ]
  },
  {
   "cell_type": "code",
   "execution_count": 3,
   "metadata": {
    "collapsed": true
   },
   "outputs": [],
   "source": [
    "from enum import Enum"
   ]
  },
  {
   "cell_type": "code",
   "execution_count": 4,
   "metadata": {
    "collapsed": true
   },
   "outputs": [],
   "source": [
    "class Fib(Enum):\n",
    "    I = 0\n",
    "    TAU = 1"
   ]
  },
  {
   "cell_type": "code",
   "execution_count": 16,
   "metadata": {
    "collapsed": true
   },
   "outputs": [],
   "source": [
    "UnitTree = TreeLabel((Fib.I,), (Fib.I,))"
   ]
  },
  {
   "cell_type": "code",
   "execution_count": 17,
   "metadata": {
    "collapsed": false
   },
   "outputs": [
    {
     "data": {
      "text/plain": [
       "TreeLabel(stalk=(<Fib.I: 0>,), leaves=(<Fib.I: 0>,))"
      ]
     },
     "execution_count": 17,
     "metadata": {},
     "output_type": "execute_result"
    }
   ],
   "source": [
    "UnitTree"
   ]
  },
  {
   "cell_type": "code",
   "execution_count": 18,
   "metadata": {
    "collapsed": true
   },
   "outputs": [],
   "source": [
    "AltUnitTree = TreeLabel((), ())"
   ]
  },
  {
   "cell_type": "code",
   "execution_count": 27,
   "metadata": {
    "collapsed": false
   },
   "outputs": [],
   "source": [
    "simpletree = TreeLabel( (Fib.I, Fib.TAU) , (Fib.TAU, Fib.TAU) )"
   ]
  },
  {
   "cell_type": "code",
   "execution_count": 21,
   "metadata": {
    "collapsed": false
   },
   "outputs": [
    {
     "data": {
      "text/plain": [
       "TreeLabel(stalk=(<Fib.I: 0>, <Fib.TAU: 1>), leaves=(<Fib.TAU: 1>, <Fib.TAU: 1>))"
      ]
     },
     "execution_count": 21,
     "metadata": {},
     "output_type": "execute_result"
    }
   ],
   "source": [
    "simpletree"
   ]
  },
  {
   "cell_type": "markdown",
   "metadata": {},
   "source": [
    "https://arxiv.org/abs/0902.3275\n",
    "For example to get the f matrix."
   ]
  },
  {
   "cell_type": "code",
   "execution_count": 31,
   "metadata": {
    "collapsed": false
   },
   "outputs": [],
   "source": [
    "def F(a,b,c,d, e):\n",
    "    phi = (np.sqrt(5)+1)/2\n",
    "    if a == Fib.TAU and b == Fib.TAU and c == Fib.TAU and d == Fib.TAU:\n",
    "        if e == Fib.I:\n",
    "            return [(Fib,I, 1.0 / phi), (Fib.TAU, 1 / np.sqrt(phi))]\n",
    "        elif e == Fib.TAU:\n",
    "            return [(Fib,I, 1.0 / np.sqrt(phi)), (Fib.TAU, -1 / phi)]\n",
    "    else:\n",
    "        return [(e, 1.0)]\n",
    "    \n",
    "def FMat(a,b,c,d):\n",
    "    phi = (np.sqrt(5)+1)/2\n",
    "    if a == Fib.TAU and b == Fib.TAU and c == Fib.TAU and d == Fib.TAU:\n",
    "        return np.array([[1/phi,              1 / np.sqrt(phi)],\n",
    "                        [1.0 / np.sqrt(phi), -1 / phi         ]]) , (Fib.I, Fib,TAU) \n",
    "    else:\n",
    "        return np.array([[1.0]]) , () #fill in proper return values\n",
    "    \n",
    "def FInvMat(a,b,c,d):\n",
    "    f, basislabel = FMat(a,b,c,d)\n",
    "    return np.inv(f), basislabels\n",
    "    "
   ]
  },
  {
   "cell_type": "code",
   "execution_count": null,
   "metadata": {
    "collapsed": true
   },
   "outputs": [],
   "source": [
    "#Given a tree labelling, returns a new tree in left canonical form.\n",
    "#Performs necessary F-move to do so, so needs to return a vector\n",
    "def split(label, leafnum, a, b):\n",
    "    newleaves = label.leaves[:leafnum] + (a,b) + label.leaves[leafnum + 1:]\n",
    "    return map( lambda (f, amp): (\n",
    "                                    TreeLabel(label.stalk[:leafnum ] + (f,) + label.stalk[leafnum + 1:], newleaves),\n",
    "                                    amp), \n",
    "                   F( a, b, label.stalk[leafnum + 1], label.stalk[leafnum], label.leaves[leafnum]))\n",
    "def braid(label, leafnum):\n",
    "    #swap leafnum and leafnum+1\n",
    "    newleaves = label.leaves[:leafnum] + (label.leaves[leafnum+1],label.leaves[leafnum]) + label.leaves[leafnum + 2:]\n",
    "    # Plus we have a new B-moved stalk label\n",
    "    \n",
    "    pass\n",
    "\n",
    "def fuse(label, leafnum):\n",
    "    #rearrange to bring fused boys together. Then f moved guy is \n",
    "    # I am really not sure that my labeled particular for Fmoves are right\n",
    "    newstalk = label.stalk[:leafnum] + label.stalk[leafnum + 1:]\n",
    "    return map( lambda (f, amp): (\n",
    "                                    TreeLabel(newstalk, label.leaves[:leafnum ] + (f,) + label.leaves[leafnum + 2:]),\n",
    "                                    amp), \n",
    "                   F(label.leaves[leafnum], label.leaves[leafnum+1], label.stalk[leafnum + 1], label.stalk[leafnum], label.stalk[leafnum-1]))\n",
    "    \n",
    "    "
   ]
  }
 ],
 "metadata": {
  "kernelspec": {
   "display_name": "Python 3",
   "language": "python",
   "name": "python3"
  },
  "language_info": {
   "codemirror_mode": {
    "name": "ipython",
    "version": 3
   },
   "file_extension": ".py",
   "mimetype": "text/x-python",
   "name": "python",
   "nbconvert_exporter": "python",
   "pygments_lexer": "ipython3",
   "version": "3.5.2"
  }
 },
 "nbformat": 4,
 "nbformat_minor": 2
}
