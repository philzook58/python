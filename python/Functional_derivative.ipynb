{
 "cells": [
  {
   "cell_type": "code",
   "execution_count": 1,
   "metadata": {
    "collapsed": true
   },
   "outputs": [],
   "source": [
    "import numpy as np"
   ]
  },
  {
   "cell_type": "code",
   "execution_count": null,
   "metadata": {
    "collapsed": true
   },
   "outputs": [],
   "source": [
    "N = 20\n",
    "G = np.zeros((N,N))\n",
    "jgj = [0,0,G,0,0]\n",
    "\n",
    "# some permutations are equivalent, which is hard to tell locally.\n",
    "# i dunno. We'll iterate on stuff\n",
    "# I s this permutation even necessary?  shouldn't the coefficients be symmettric anyhow?\n",
    "# I can push the permutation into the definition and product steps.\n",
    "\n",
    "\n",
    "# swap axes can be done in Accelerate.\n",
    "def permutecoeff(coeff, i):\n",
    "    #permute the front i coeffs. The back coeffs are all attached to j terms implcitly\n",
    "    # and sums\n",
    "    permutes = []\n",
    "    newcoeff = np.zeros_like(coeff)\n",
    "    \n",
    "    for j in range(i):\n",
    "        newcoeff += np.swapaxes(coeff, j, 0) #come from the back or front?\n",
    "    #these permutations generate the choices of j which are the n terms in derivatives\n",
    "    #no swap axes in tensorflow, may implement my own in terms of trnaspose\n",
    "    return newcoeff\n",
    "\n",
    "# convolution of polynomial coefficients\n",
    "def prod(a , b):\n",
    "    result = []\n",
    "    for n in min(len(b),len(a)):\n",
    "        result.append(0)\n",
    "        for i in range(n):\n",
    "            result[n] += a[i]*b[n-i]\n",
    "    return result\n",
    "            \n",
    "\n",
    "def compose():\n",
    "    pass\n",
    "    \n",
    "    \n",
    "            \n",
    "def exp(pj):\n",
    "    \n",
    "    \n",
    "    \n",
    "    \n",
    "    \n",
    "\n",
    "def deriv(pj):\n",
    "    pj = pj[1:]\n",
    "    newpj = []\n",
    "    for i,coeff in enumerate(pj):\n",
    "        newcoeff = permutcoeff(ceoff, i+1)\n",
    "        newpj.append(newcoeff)\n",
    "    return newpj"
   ]
  }
 ],
 "metadata": {
  "kernelspec": {
   "display_name": "Python 3",
   "language": "python",
   "name": "python3"
  },
  "language_info": {
   "codemirror_mode": {
    "name": "ipython",
    "version": 3
   },
   "file_extension": ".py",
   "mimetype": "text/x-python",
   "name": "python",
   "nbconvert_exporter": "python",
   "pygments_lexer": "ipython3",
   "version": "3.5.1"
  }
 },
 "nbformat": 4,
 "nbformat_minor": 2
}
