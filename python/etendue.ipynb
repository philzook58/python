{
 "cells": [
  {
   "cell_type": "code",
   "execution_count": 10,
   "metadata": {
    "collapsed": true
   },
   "outputs": [],
   "source": [
    "import numpy as np\n",
    "import matplotlib.pyplot as plt\n",
    "%matplotlib inline\n",
    "import scipy.special\n",
    "import scipy as sp\n",
    "from scipy import linalg"
   ]
  },
  {
   "cell_type": "markdown",
   "metadata": {},
   "source": [
    "Solutions of the 2D Helmholtz equation.\n",
    "H0norm takes a 2 component vector"
   ]
  },
  {
   "cell_type": "code",
   "execution_count": 8,
   "metadata": {
    "collapsed": true
   },
   "outputs": [],
   "source": [
    "\n",
    "def H0(k, r):\n",
    "    return scipy.special.hankel1(0,k * r)\n",
    "\n",
    "def H0norm(k, x):\n",
    "    return scipy.special.hankel1(0,k * np.linalg.norm(x,axis=2))\n"
   ]
  },
  {
   "cell_type": "markdown",
   "metadata": {},
   "source": [
    "Firstit might be nice to show that this indeed is a solution of the Helmholtz equation "
   ]
  },
  {
   "cell_type": "code",
   "execution_count": 5,
   "metadata": {
    "collapsed": true
   },
   "outputs": [],
   "source": [
    "# Scattered points\n",
    "N = 200\n",
    "p1 = np.random.rand(1,N,2)\n",
    "p2 = np.random.rand(N,1,2)\n",
    "p2[:,0,0] += 4"
   ]
  },
  {
   "cell_type": "markdown",
   "metadata": {},
   "source": [
    "My conjecture is that the rank of the helhmotlz operator ought to be basically the etendue time k^2. \n",
    "The following will compute all the piarwise matrix elements of these points"
   ]
  },
  {
   "cell_type": "code",
   "execution_count": 11,
   "metadata": {},
   "outputs": [],
   "source": [
    "G = H0norm(1,p1-p2)"
   ]
  },
  {
   "cell_type": "code",
   "execution_count": 12,
   "metadata": {
    "collapsed": true
   },
   "outputs": [],
   "source": [
    "\n",
    "\n",
    "U, s, Vh = linalg.svd(G)"
   ]
  },
  {
   "cell_type": "code",
   "execution_count": 19,
   "metadata": {},
   "outputs": [
    {
     "data": {
      "image/png": "[encoded data removed]",
      "text/plain": [
       "<matplotlib.figure.Figure at 0x113479320>"
      ]
     },
     "metadata": {},
     "output_type": "display_data"
    }
   ],
   "source": [
    "for i in range(10):\n",
    "    plt.plot([i],np.sum(s>10**(-i)))"
   ]
  },
  {
   "cell_type": "code",
   "execution_count": 22,
   "metadata": {},
   "outputs": [
    {
     "data": {
      "text/plain": [
       "(array([ 184.,    2.,    2.,    2.,    1.,    2.,    2.,    2.,    1.,    2.]),\n",
       " array([-14.82466354, -13.15230109, -11.47993864,  -9.80757618,\n",
       "         -8.13521373,  -6.46285128,  -4.79048883,  -3.11812637,\n",
       "         -1.44576392,   0.22659853,   1.89896098]),\n",
       " <a list of 10 Patch objects>)"
      ]
     },
     "execution_count": 22,
     "metadata": {},
     "output_type": "execute_result"
    },
    {
     "data": {
      "image/png": "[encoded data removed]",
      "text/plain": [
       "<matplotlib.figure.Figure at 0x11371b3c8>"
      ]
     },
     "metadata": {},
     "output_type": "display_data"
    }
   ],
   "source": [
    "plt.hist(np.log10(s), 10, facecolor='green', alpha=0.75)"
   ]
  },
  {
   "cell_type": "code",
   "execution_count": 26,
   "metadata": {},
   "outputs": [
    {
     "data": {
      "text/plain": [
       "[<matplotlib.lines.Line2D at 0x1137fa7f0>]"
      ]
     },
     "execution_count": 26,
     "metadata": {},
     "output_type": "execute_result"
    },
    {
     "data": {
      "image/png": "[encoded data removed]",
      "text/plain": [
       "<matplotlib.figure.Figure at 0x1137fa5f8>"
      ]
     },
     "metadata": {},
     "output_type": "display_data"
    }
   ],
   "source": [
    "plt.yscale(\"log\")\n",
    "plt.plot(s)"
   ]
  },
  {
   "cell_type": "code",
   "execution_count": 55,
   "metadata": {},
   "outputs": [
    {
     "data": {
      "text/plain": [
       "[<matplotlib.lines.Line2D at 0x115ba19b0>]"
      ]
     },
     "execution_count": 55,
     "metadata": {},
     "output_type": "execute_result"
    },
    {
     "data": {
      "image/png": "[encoded data removed]",
      "text/plain": [
       "<matplotlib.figure.Figure at 0x115bb4978>"
      ]
     },
     "metadata": {},
     "output_type": "display_data"
    }
   ],
   "source": [
    "# Scattered points\n",
    "\n",
    "N = 200\n",
    "p1 = np.random.rand(1,N,2)\n",
    "p2 = np.random.rand(N,1,2)\n",
    "p2[:,0,0] += 40\n",
    "G = H0norm(0.00001,p1-p2)\n",
    "U, s, Vh = linalg.svd(G)\n",
    " \n",
    "plt.yscale(\"log\")\n",
    "plt.plot(s[:50])"
   ]
  },
  {
   "cell_type": "markdown",
   "metadata": {},
   "source": [
    "Rank does decrease with distance. The k dependenace doesn't make any sense to me"
   ]
  },
  {
   "cell_type": "code",
   "execution_count": 65,
   "metadata": {},
   "outputs": [
    {
     "name": "stderr",
     "output_type": "stream",
     "text": [
      "/usr/local/lib/python3.5/site-packages/ipykernel_launcher.py:13: RuntimeWarning: divide by zero encountered in true_divide\n",
      "  del sys.path[0]\n"
     ]
    },
    {
     "data": {
      "text/plain": [
       "[<matplotlib.lines.Line2D at 0x116662940>]"
      ]
     },
     "execution_count": 65,
     "metadata": {},
     "output_type": "execute_result"
    },
    {
     "data": {
      "image/png": "[encoded data removed]",
      "text/plain": [
       "<matplotlib.figure.Figure at 0x115776908>"
      ]
     },
     "metadata": {},
     "output_type": "display_data"
    }
   ],
   "source": [
    "# Scattered points\n",
    "ranks = np.zeros(10)\n",
    "for i in range(10):\n",
    "    N = 200\n",
    "    p1 = np.random.rand(1,N,2)\n",
    "    p2 = np.random.rand(N,1,2)\n",
    "    p2[:,0,0] += i\n",
    "    G = H0norm(0.01,p1-p2)\n",
    "    U, s, Vh = linalg.svd(G)\n",
    "    ranks[i] = np.sum(s>1e-13)\n",
    "\n",
    "plt.plot(ranks)\n",
    "plt.plot(ranks[1]/np.arange(10))"
   ]
  },
  {
   "cell_type": "code",
   "execution_count": 77,
   "metadata": {},
   "outputs": [
    {
     "name": "stderr",
     "output_type": "stream",
     "text": [
      "/usr/local/lib/python3.5/site-packages/ipykernel_launcher.py:15: RuntimeWarning: divide by zero encountered in true_divide\n",
      "  from ipykernel import kernelapp as app\n"
     ]
    },
    {
     "data": {
      "text/plain": [
       "[<matplotlib.lines.Line2D at 0x117ccf400>]"
      ]
     },
     "execution_count": 77,
     "metadata": {},
     "output_type": "execute_result"
    },
    {
     "data": {
      "image/png": "[encoded data removed]",
      "text/plain": [
       "<matplotlib.figure.Figure at 0x117975400>"
      ]
     },
     "metadata": {},
     "output_type": "display_data"
    }
   ],
   "source": [
    "# Scattered points\n",
    "dist = 100\n",
    "ranks = np.zeros(dist)\n",
    "for i in range(dist):\n",
    "    N = 200\n",
    "    p1 = np.random.rand(1,N,2)\n",
    "    p2 = np.random.rand(N,1,2)\n",
    "    p2[:,0,0] += i\n",
    "    G = H0norm(30,p1-p2)\n",
    "    U, s, Vh = linalg.svd(G)\n",
    "    ranks[i] = np.sum(s>1e-2)\n",
    "plt.yscale(\"log\")\n",
    "plt.xscale(\"log\")\n",
    "plt.plot(ranks)\n",
    "plt.plot(ranks[1]/np.arange(dist) + 1)\n"
   ]
  },
  {
   "cell_type": "markdown",
   "metadata": {},
   "source": [
    "The fit for 1/r dependence isn't bad. up until larger distances where the numbers level out at 10.\n",
    "\n",
    "But. i should be extremely wary. The fit is really quite bad. at larger distance..\n",
    "And it is always dipping under at shorter distance. \n",
    "The curve just doesn't look like pure power law.\n",
    "\n",
    "And I could add an offset, but why?\n",
    "\n",
    "Two more tests\n",
    "Should be proportional to transverse wdith\n",
    "and not sensitive to depth of point cloud\n",
    "Also try in three dimensions\n",
    "Actually perform the expansion about source and target points\n",
    "should just be a taylor expansion or fourier series?\n",
    "\n",
    "paraxial\n",
    "assume\n",
    "f ~ e^ikz * g\n",
    "See what's leftoever. assume seconds derivative of g is small\n",
    "\n"
   ]
  },
  {
   "cell_type": "code",
   "execution_count": 78,
   "metadata": {},
   "outputs": [
    {
     "data": {
      "text/plain": [
       "[<matplotlib.lines.Line2D at 0x116b9e0b8>]"
      ]
     },
     "execution_count": 78,
     "metadata": {},
     "output_type": "execute_result"
    },
    {
     "data": {
      "image/png": "[encoded data removed]",
      "text/plain": [
       "<matplotlib.figure.Figure at 0x117cc4b00>"
      ]
     },
     "metadata": {},
     "output_type": "display_data"
    }
   ],
   "source": [
    "# Scattered points\n",
    "dist = 100\n",
    "ranks = np.zeros(dist)\n",
    "for i in range(dist):\n",
    "    N = 200\n",
    "    p1 = np.random.rand(1,N,2)\n",
    "    p2 = np.random.rand(N,1,2)\n",
    "    p2[:,0,0] = 10 + i * p2[:,0,0]\n",
    "    G = H0norm(30,p1-p2)\n",
    "    U, s, Vh = linalg.svd(G)\n",
    "    ranks[i] = np.sum(s>1e-12)\n",
    "plt.yscale(\"log\")\n",
    "plt.xscale(\"log\")\n",
    "plt.plot(ranks)\n",
    "#plt.plot(ranks[1]/np.arange(dist) + 1)"
   ]
  },
  {
   "cell_type": "code",
   "execution_count": 96,
   "metadata": {},
   "outputs": [
    {
     "data": {
      "text/plain": [
       "[<matplotlib.lines.Line2D at 0x11949ec50>]"
      ]
     },
     "execution_count": 96,
     "metadata": {},
     "output_type": "execute_result"
    },
    {
     "data": {
      "image/png": "[encoded data removed]",
      "text/plain": [
       "<matplotlib.figure.Figure at 0x11949ec18>"
      ]
     },
     "metadata": {},
     "output_type": "display_data"
    }
   ],
   "source": [
    "# Scattered points\n",
    "dist = 100\n",
    "ranks = []#np.zeros(dist)\n",
    "for i in range(0,dist,10):\n",
    "    N = 2000\n",
    "    p1 = np.random.rand(1,N,2)\n",
    "    p2 = np.random.rand(N,1,2)\n",
    "    p2[:,0,0] += 10\n",
    "    p2[:,0,1] = i * p2[:,0,1]\n",
    "    G = H0norm(1,p1-p2)\n",
    "    U, s, Vh = linalg.svd(G)\n",
    "    ranks.append(np.sum(s>1e-12))\n",
    "plt.yscale(\"log\")\n",
    "plt.xscale(\"log\")\n",
    "plt.plot(range(0,dist,10), ranks)\n",
    "plt.plot(np.arange(dist)/ranks[1])"
   ]
  },
  {
   "cell_type": "code",
   "execution_count": 87,
   "metadata": {},
   "outputs": [
    {
     "data": {
      "text/plain": [
       "[0, 2, 4, 6, 8]"
      ]
     },
     "execution_count": 87,
     "metadata": {},
     "output_type": "execute_result"
    }
   ],
   "source": [
    "list(range(0,10,2))"
   ]
  },
  {
   "cell_type": "code",
   "execution_count": null,
   "metadata": {
    "collapsed": true
   },
   "outputs": [],
   "source": []
  }
 ],
 "metadata": {
  "kernelspec": {
   "display_name": "Python 3",
   "language": "python",
   "name": "python3"
  },
  "language_info": {
   "codemirror_mode": {
    "name": "ipython",
    "version": 3
   },
   "file_extension": ".py",
   "mimetype": "text/x-python",
   "name": "python",
   "nbconvert_exporter": "python",
   "pygments_lexer": "ipython3",
   "version": "3.5.1"
  }
 },
 "nbformat": 4,
 "nbformat_minor": 2
}
