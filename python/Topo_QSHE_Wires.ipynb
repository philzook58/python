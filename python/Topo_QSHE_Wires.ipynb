{
 "cells": [
  {
   "cell_type": "code",
   "execution_count": 11,
   "metadata": {
    "collapsed": true
   },
   "outputs": [],
   "source": [
    "import numpy as np\n",
    "import scipy as sp\n",
    "from scipy import linalg\n",
    "import matplotlib.pyplot as plt\n",
    "%matplotlib inline"
   ]
  },
  {
   "cell_type": "code",
   "execution_count": 24,
   "metadata": {
    "collapsed": true
   },
   "outputs": [],
   "source": [
    "from scipy.linalg import toeplitz\n",
    "N = 2\n",
    "firstcol = np.zeros(N)\n",
    "firstcol[0] = 2\n",
    "firstcol[1] = -1\n",
    "firstrow = np.zeros(N)\n",
    "firstrow[0] = 2\n",
    "firstrow[1] = -1\n",
    "K = toeplitz(firstcol, firstrow)"
   ]
  },
  {
   "cell_type": "code",
   "execution_count": 27,
   "metadata": {
    "collapsed": true
   },
   "outputs": [],
   "source": [
    "def Hk(k):\n",
    "    a = 1.0\n",
    "    return -1*np.exp(-1.j * k * a ) + K - np.exp(1.j * k * a ) + 2"
   ]
  },
  {
   "cell_type": "code",
   "execution_count": 28,
   "metadata": {},
   "outputs": [
    {
     "data": {
      "image/png": "[encoded data removed]",
      "text/plain": [
       "<matplotlib.figure.Figure at 0x114ea43c8>"
      ]
     },
     "metadata": {},
     "output_type": "display_data"
    }
   ],
   "source": [
    "ks = np.linspace(-1 * np.pi, np.pi, 30)\n",
    "energies = np.zeros((30, N))\n",
    "for i in range(30):\n",
    "    energies[i,:] = linalg.eigvalsh(Hk(ks[i]))\n",
    "for i in range(N):\n",
    "    plt.plot(ks,energies[:,i])\n"
   ]
  },
  {
   "cell_type": "code",
   "execution_count": 20,
   "metadata": {},
   "outputs": [
    {
     "data": {
      "text/plain": [
       "array([[ 4.+0.j,  1.+0.j,  2.+0.j,  2.+0.j,  2.+0.j,  2.+0.j,  2.+0.j,\n",
       "         2.+0.j,  2.+0.j,  2.+0.j],\n",
       "       [ 1.+0.j,  4.+0.j,  1.+0.j,  2.+0.j,  2.+0.j,  2.+0.j,  2.+0.j,\n",
       "         2.+0.j,  2.+0.j,  2.+0.j],\n",
       "       [ 2.+0.j,  1.+0.j,  4.+0.j,  1.+0.j,  2.+0.j,  2.+0.j,  2.+0.j,\n",
       "         2.+0.j,  2.+0.j,  2.+0.j],\n",
       "       [ 2.+0.j,  2.+0.j,  1.+0.j,  4.+0.j,  1.+0.j,  2.+0.j,  2.+0.j,\n",
       "         2.+0.j,  2.+0.j,  2.+0.j],\n",
       "       [ 2.+0.j,  2.+0.j,  2.+0.j,  1.+0.j,  4.+0.j,  1.+0.j,  2.+0.j,\n",
       "         2.+0.j,  2.+0.j,  2.+0.j],\n",
       "       [ 2.+0.j,  2.+0.j,  2.+0.j,  2.+0.j,  1.+0.j,  4.+0.j,  1.+0.j,\n",
       "         2.+0.j,  2.+0.j,  2.+0.j],\n",
       "       [ 2.+0.j,  2.+0.j,  2.+0.j,  2.+0.j,  2.+0.j,  1.+0.j,  4.+0.j,\n",
       "         1.+0.j,  2.+0.j,  2.+0.j],\n",
       "       [ 2.+0.j,  2.+0.j,  2.+0.j,  2.+0.j,  2.+0.j,  2.+0.j,  1.+0.j,\n",
       "         4.+0.j,  1.+0.j,  2.+0.j],\n",
       "       [ 2.+0.j,  2.+0.j,  2.+0.j,  2.+0.j,  2.+0.j,  2.+0.j,  2.+0.j,\n",
       "         1.+0.j,  4.+0.j,  1.+0.j],\n",
       "       [ 2.+0.j,  2.+0.j,  2.+0.j,  2.+0.j,  2.+0.j,  2.+0.j,  2.+0.j,\n",
       "         2.+0.j,  1.+0.j,  4.+0.j]])"
      ]
     },
     "execution_count": 20,
     "metadata": {},
     "output_type": "execute_result"
    }
   ],
   "source": [
    "Hk(np.pi/2)"
   ]
  },
  {
   "cell_type": "code",
   "execution_count": null,
   "metadata": {
    "collapsed": true
   },
   "outputs": [],
   "source": []
  }
 ],
 "metadata": {
  "kernelspec": {
   "display_name": "Python 3",
   "language": "python",
   "name": "python3"
  },
  "language_info": {
   "codemirror_mode": {
    "name": "ipython",
    "version": 3
   },
   "file_extension": ".py",
   "mimetype": "text/x-python",
   "name": "python",
   "nbconvert_exporter": "python",
   "pygments_lexer": "ipython3",
   "version": "3.5.1"
  }
 },
 "nbformat": 4,
 "nbformat_minor": 2
}
