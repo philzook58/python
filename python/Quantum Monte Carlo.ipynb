{
 "cells": [
  {
   "cell_type": "markdown",
   "metadata": {},
   "source": [
    "1. Metropolis algorithm\n",
    "2. Integrate Circle and other simple functions\n",
    "2. Variational (SHO wrong gaussian, particle in periodic box, then Slater (Free, then interaction), then Slater Jastrow)\n",
    "3. Diffusion MC, Importance sample, node fix"
   ]
  },
  {
   "cell_type": "markdown",
   "metadata": {},
   "source": [
    "Probalistic programming\n",
    "\n",
    "-- higher order function takes py and returns px\n",
    "-- higher order function takes py and return pxy\n",
    "-- higher order function take py, xmeasured and returns py_x\n",
    "Px_y py = \\x y-> (py y) * \n",
    "P(x|y)  = np.exp()   #functiony. Takes P(y)\n",
    "P(x|y) py = np.exp()   #functiony. Takes P(y)\n",
    "P(x,y) = #Prology, reverse mode inference.\n",
    "\n",
    "\n"
   ]
  }
 ],
 "metadata": {
  "kernelspec": {
   "display_name": "Python 3",
   "language": "python",
   "name": "python3"
  },
  "language_info": {
   "codemirror_mode": {
    "name": "ipython",
    "version": 3
   },
   "file_extension": ".py",
   "mimetype": "text/x-python",
   "name": "python",
   "nbconvert_exporter": "python",
   "pygments_lexer": "ipython3",
   "version": "3.5.1"
  }
 },
 "nbformat": 4,
 "nbformat_minor": 2
}
