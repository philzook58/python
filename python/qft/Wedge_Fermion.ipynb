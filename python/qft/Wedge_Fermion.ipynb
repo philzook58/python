{
 "cells": [
  {
   "cell_type": "code",
   "execution_count": 1,
   "metadata": {
    "collapsed": true
   },
   "outputs": [],
   "source": [
    "import numpy as np"
   ]
  },
  {
   "cell_type": "code",
   "execution_count": null,
   "metadata": {
    "collapsed": true
   },
   "outputs": [],
   "source": [
    "#Tree like wedge with parenthesis\n",
    "class Wedge():\n",
    "    def __init__(a,b):\n",
    "        # implicitly checking size of a and b and antisymmettrizing them\n",
    "        self.a = a\n",
    "        self.b = b\n",
    "    def dot(c):\n",
    "        acc = 0\n",
    "        for partition in c:\n",
    "            acc += (-1)**(parity(partition)) * self.a.dot(c) * self.b.dot(c) \n",
    "        return acc\n",
    "        \n",
    "        \n",
    "    "
   ]
  },
  {
   "cell_type": "code",
   "execution_count": null,
   "metadata": {
    "collapsed": true
   },
   "outputs": [],
   "source": [
    "# for wedge though it is associative. So a list of all the vectors in the wedge is appropriate\n",
    "class Wedge():\n",
    "    def __init__(a):\n",
    "        self.veclist = a\n",
    "        self.scalar = 1.0\n",
    "    def add(b):\n",
    "        \n",
    "    def expand():\n",
    "        # return the expanded out form of the veclist\n",
    "        pass\n",
    "    def bind(L):\n",
    "        #a generic operator\n",
    "        return self.expand().bind(L)\n",
    "    def singleParticleBind(L):\n",
    "        #an single particle operator.\n",
    "        return self.nBind(L,1)\n",
    "    def twoParticleBind(L):\n",
    "    def nBind(L,N):\n",
    "        #N particle linear operator.\n",
    "    def dot(b):\n",
    "        # The process of detecting if is a wedge makes me uncompfortable\n",
    "        if type(b)==Wedge:\n",
    "            if len(b.veclist) == len(self.veclist):\n",
    "                dotmat = np.dot(b.vectlist,self.veclist.T)\n",
    "                return np.det(dotmat)\n",
    "            else:\n",
    "                return 0\n",
    "        else:\n",
    "    def form():\n",
    "        def omega(a):\n",
    "            dotmat = np.dot(a.vectlist,self.veclist.T)\n",
    "            np.det()\n",
    "        return omega\n",
    "            \n",
    "        \n",
    "        "
   ]
  },
  {
   "cell_type": "markdown",
   "metadata": {},
   "source": [
    "The distribution into the full many body basis is disastrous.\n",
    "I need the class wedge to implement the undistrubited wedge product between two states."
   ]
  },
  {
   "cell_type": "markdown",
   "metadata": {},
   "source": [
    "There is something to be said for the functional interface of vectors. Every vector is a function. every one form is a function on basis. then one level up is vector. a vector is something that takes oneform. This makes basis element contravaraint again."
   ]
  },
  {
   "cell_type": "markdown",
   "metadata": {},
   "source": [
    "Deferring everything until a number has to come out may be best. But then we really are at a full language interpeter and optmizr level."
   ]
  },
  {
   "cell_type": "code",
   "execution_count": null,
   "metadata": {
    "collapsed": true
   },
   "outputs": [],
   "source": [
    "def add(b):\n",
    "    self.defferred.append(('add',b))"
   ]
  },
  {
   "cell_type": "code",
   "execution_count": null,
   "metadata": {
    "collapsed": true
   },
   "outputs": [],
   "source": [
    "# wedgy-form\n",
    "def omega(a,b,c,d):\n",
    "    dotmat = np.dot(b.vectlist,self.veclist.T)\n",
    "    np.det()\n",
    "\n",
    "def formwedge(w1, w2):\n",
    "    def w1w2(a):\n",
    "        acc = 0\n",
    "        for p,q, parity in partitions(a, w1.size, w2.size):\n",
    "            acc += parity * w1(p) * w2(q)\n",
    "        #could also write in form of map and fold.\n",
    "        return acc\n"
   ]
  },
  {
   "cell_type": "code",
   "execution_count": null,
   "metadata": {
    "collapsed": true
   },
   "outputs": [],
   "source": [
    "# For tree form, the two parenthesis may not match. They must be borught into a matching form \n",
    "#before they can be added or inner producted or what have you.\n",
    "def BasisWedge"
   ]
  },
  {
   "cell_type": "code",
   "execution_count": null,
   "metadata": {
    "collapsed": true
   },
   "outputs": [],
   "source": [
    "class Wedge:\n",
    "    def __init__(a,b):\n",
    "        self.vec = [(1,a,b)]\n",
    "    def add(b):\n",
    "        if type(b) = Wedge:\n",
    "            self.vec.concat(b.vec)\n",
    "        "
   ]
  },
  {
   "cell_type": "markdown",
   "metadata": {},
   "source": [
    "Yeah. i kind of want a DSL of vector ops. Because I just want to actually do things when it is useful."
   ]
  },
  {
   "cell_type": "code",
   "execution_count": null,
   "metadata": {
    "collapsed": true
   },
   "outputs": [],
   "source": [
    "data VecLang basis = Add VecLang VecLang | ScalMult ComplexFloat VecLang | Dot VecExpr VecExpr \n",
    "    | Wedge a b | VecConst [(ComplexFloat, basis)]"
   ]
  },
  {
   "cell_type": "code",
   "execution_count": null,
   "metadata": {
    "collapsed": true
   },
   "outputs": [],
   "source": [
    "eval Add (Wedge a b) (Wedge c d)"
   ]
  },
  {
   "cell_type": "markdown",
   "metadata": {},
   "source": [
    "Add is a replacement for [] really.\n"
   ]
  },
  {
   "cell_type": "code",
   "execution_count": null,
   "metadata": {
    "collapsed": true
   },
   "outputs": [],
   "source": [
    "Wedge (Add x y) (Add z a) = Wedge "
   ]
  },
  {
   "cell_type": "code",
   "execution_count": null,
   "metadata": {
    "collapsed": true
   },
   "outputs": [],
   "source": [
    "eval Dot (ScalMult a v) = a * (eval Dot v) "
   ]
  },
  {
   "cell_type": "markdown",
   "metadata": {},
   "source": [
    "Based on the idea of >- being a lambda expression... and eval is the thing that does"
   ]
  }
 ],
 "metadata": {
  "kernelspec": {
   "display_name": "Python 3",
   "language": "python",
   "name": "python3"
  },
  "language_info": {
   "codemirror_mode": {
    "name": "ipython",
    "version": 3
   },
   "file_extension": ".py",
   "mimetype": "text/x-python",
   "name": "python",
   "nbconvert_exporter": "python",
   "pygments_lexer": "ipython3",
   "version": "3.5.1"
  }
 },
 "nbformat": 4,
 "nbformat_minor": 2
}
