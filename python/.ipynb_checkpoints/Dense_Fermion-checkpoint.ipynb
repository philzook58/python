{
 "cells": [
  {
   "cell_type": "code",
   "execution_count": 1,
   "metadata": {
    "collapsed": true
   },
   "outputs": [],
   "source": [
    "import numpy as np"
   ]
  },
  {
   "cell_type": "markdown",
   "metadata": {},
   "source": [
    "A first approach to many-body quantum mechanics is the occupation number representation. The states are labelled by a binary string, with 1s correspondng to filled states and 0s to empty states. Since you will need 1 bit per site, the total size of the vector space is $2^{\\# Sites}$."
   ]
  },
  {
   "cell_type": "code",
   "execution_count": 2,
   "metadata": {
    "collapsed": false
   },
   "outputs": [
    {
     "data": {
      "text/plain": [
       "8"
      ]
     },
     "execution_count": 2,
     "metadata": {},
     "output_type": "execute_result"
    }
   ],
   "source": [
    "1 << 3"
   ]
  },
  {
   "cell_type": "code",
   "execution_count": 3,
   "metadata": {
    "collapsed": true
   },
   "outputs": [],
   "source": [
    "n = 1 << 3 | 1 << 4"
   ]
  },
  {
   "cell_type": "code",
   "execution_count": 4,
   "metadata": {
    "collapsed": false
   },
   "outputs": [
    {
     "data": {
      "text/plain": [
       "2"
      ]
     },
     "execution_count": 4,
     "metadata": {},
     "output_type": "execute_result"
    }
   ],
   "source": [
    "bin(n).count(\"1\")"
   ]
  },
  {
   "cell_type": "code",
   "execution_count": 6,
   "metadata": {
    "collapsed": false
   },
   "outputs": [
    {
     "data": {
      "text/plain": [
       "'0b11000'"
      ]
     },
     "execution_count": 6,
     "metadata": {},
     "output_type": "execute_result"
    }
   ],
   "source": [
    "bin(n)"
   ]
  },
  {
   "cell_type": "code",
   "execution_count": 9,
   "metadata": {
    "collapsed": false
   },
   "outputs": [],
   "source": [
    "import gmpy2"
   ]
  },
  {
   "cell_type": "code",
   "execution_count": 10,
   "metadata": {
    "collapsed": false
   },
   "outputs": [
    {
     "data": {
      "text/plain": [
       "2"
      ]
     },
     "execution_count": 10,
     "metadata": {},
     "output_type": "execute_result"
    }
   ],
   "source": [
    "gmpy2.popcount(n)"
   ]
  },
  {
   "cell_type": "markdown",
   "metadata": {},
   "source": [
    "Since 0 corresponds to the bit string 0b000000, this is the completely empty state, which we may call the vacuum. We need to set the amplitude of this index to 1.0 so that it accounts for the total quantum amplitude of being empty."
   ]
  },
  {
   "cell_type": "code",
   "execution_count": 33,
   "metadata": {
    "collapsed": false
   },
   "outputs": [],
   "source": [
    "NSites = 6\n",
    "NStates = 2 ** NSites\n",
    "\n",
    "def vac(NStates):\n",
    "    state = np.zeros(NStates)\n",
    "    state[0] = 1.0\n",
    "    return state"
   ]
  },
  {
   "cell_type": "code",
   "execution_count": 14,
   "metadata": {
    "collapsed": true
   },
   "outputs": [],
   "source": [
    "popcount = np.vectorize(gmpy2.popcount)"
   ]
  },
  {
   "cell_type": "markdown",
   "metadata": {},
   "source": [
    "We will want to count the number of particles in an occupation binary string. This corresponds to counting the number of 1s in the binary number. The Wikipedia article for Hamming Weight (a name for this operation) has this code for a 64-bit unsigned integer. We'll need to be careful to cast as uint64 or we'll get awful bugs later unfortunately."
   ]
  },
  {
   "cell_type": "code",
   "execution_count": 27,
   "metadata": {
    "collapsed": true
   },
   "outputs": [],
   "source": [
    "#from wikipedia article on hamming weight\n",
    "# works for 64 bits numbers\n",
    "\n",
    "m1  = 0x5555555555555555; #binary: 0101...\n",
    "m2  = 0x3333333333333333; #binary: 00110011..\n",
    "m4  = 0x0f0f0f0f0f0f0f0f; #binary:  4 zeros,  4 ones ...\n",
    "m8  = 0x00ff00ff00ff00ff; #binary:  8 zeros,  8 ones ...\n",
    "m16 = 0x0000ffff0000ffff; #binary: 16 zeros, 16 ones ...\n",
    "m32 = 0x00000000ffffffff; #binary: 32 zeros, 32 one\n",
    "hff = 0xffffffffffffffff; #binary: all ones\n",
    "h01 = 0x0101010101010101;\n",
    "def popcount64c(x):\n",
    "    x -= (x >> 1) & m1;             #put count of each 2 bits into those 2 bits\n",
    "    x = (x & m2) + ((x >> 2) & m2); #put count of each 4 bits into those 4 bits \n",
    "    x = (x + (x >> 4)) & m4;        #put count of each 8 bits into those 8 bits \n",
    "    return (x * h01) >> 56;  #returns left 8 bits of x + (x<<8) + (x<<16) + (x<<24) + ... \n"
   ]
  },
  {
   "cell_type": "markdown",
   "metadata": {},
   "source": [
    "Now we get to the meat. How do we implement dermionic creation and annihilation operators commonly denoted $a_j^\\dagger$ and $a_j$. The operators when applied to a state fill (create a particle) an empty spot at site $j$, or empty it (annihilate the particle).\n",
    "There is some truly funky business with fermions that we have to anticommute these operators. This is part of the mathematical origin of the Pauli Exclusion principle and has some relation to determinants, which we will see an aspect of later. Don't get me wrong. These minus signs are weird.\n",
    "To account for them, we pick a canonical ordering or the creation operators, in our case in descending order, for example $a_6^\\dagger a_3^\\dagger a_0^\\dagger |0>$. We only need anti-commute sufficiently to get an operator into it's canonical position in the expression representing the state for example $a_3^\\dagger a_6^\\dagger a_5^\\dagger a_4^\\dagger a_0^\\dagger |0> = - a_6^\\dagger a_5^\\dagger a_4^\\dagger a_3^\\dagger a_0^\\dagger |0> $. \n",
    "It's complicated and it took me a couple tries to get the binary version of this right."
   ]
  },
  {
   "cell_type": "code",
   "execution_count": 139,
   "metadata": {
    "collapsed": false
   },
   "outputs": [],
   "source": [
    "\n",
    "def reshapeSite(site, state):\n",
    "    #returns state[leftstatechanges(msb), occupy/unoccupied, rightstatechanges(lsb)]\n",
    "    return state.reshape((-1, 2,2**site))\n",
    "\n",
    "def antiCommuteFactor(site, state):\n",
    "    #applies a -1 for every occupied state to the left (most sig. bits).\n",
    "    # canonical ordering is to have adag0 closest to the ket\n",
    "    indices = np.arange(state.size, dtype=np.uint64)\n",
    "    rightBinary = indices >> site + 1 # shift out all the bits to the right\n",
    "    isOdd = popcount64c(rightBinary) & 0x1\n",
    "    return np.where(isOdd, -1, 1) * state\n",
    "    \n",
    "\n",
    "def adag(site, state, copy=True):\n",
    "    if copy:\n",
    "        state = np.copy(state)\n",
    "    state = reshapeSite(site,state)\n",
    "    state[:,1,:] = state[:,0,:] \n",
    "    state[:,0,:] = 0\n",
    "    state = state.flatten()\n",
    "    return antiCommuteFactor(site,state)\n",
    "\n",
    "\n",
    "def agad(site, state, copy=True):\n",
    "    if copy:\n",
    "        state = np.copy(state)\n",
    "    state = reshapeSite(site,state)\n",
    "    state[:,0,:] = state[:,1,:] #turns 1 into a zero\n",
    "    state[:,1,:] = 0 #nothing comes into the occupied state\n",
    "    state = state.flatten()\n",
    "    return antiCommuteFactor(site,state)\n",
    "\n",
    "def Num(site, state, copy=True):\n",
    "    if copy:\n",
    "        state = np.copy(state)\n",
    "    state = reshapeSite(site,state)\n",
    "    state[:,0,:] = 0 #zero out if unoccupied\n",
    "    return state.flatten()\n",
    "\n",
    "def prettyPrint(state,nsites):\n",
    "    #avoids printing nearly zero, and puts in ket notation\n",
    "    returnstr = \"\"\n",
    "    for index,amp in enumerate(state):\n",
    "        if abs(amp) > 0.001:\n",
    "            returnstr += str(amp) + \" * |\" + bin(index)[2:].zfill(nsites) + \"> + \"\n",
    "    return returnstr + \"0\""
   ]
  },
  {
   "cell_type": "markdown",
   "metadata": {},
   "source": [
    "Here we can see that alternate orderings of applying the operators give opposite signs out front."
   ]
  },
  {
   "cell_type": "code",
   "execution_count": 119,
   "metadata": {
    "collapsed": false
   },
   "outputs": [
    {
     "name": "stdout",
     "output_type": "stream",
     "text": [
      "1.0 * |000011> + 0\n",
      "-1.0 * |000011> + 0\n",
      "1.0 * |001001> + 0\n",
      "-1.0 * |000011> + 1.0 * |001001> + 0\n"
     ]
    }
   ],
   "source": [
    "state1 = adag(1,adag(0, vac(NStates)))\n",
    "state2 = adag(0,adag(1, vac(NStates)))\n",
    "print(prettyPrint(state1, NSites))\n",
    "print(prettyPrint(state2, NSites))\n",
    "state1 = adag(3,adag(0, vac(NStates)))\n",
    "state2 = adag(0,adag(1, vac(NStates)))\n",
    "print(prettyPrint(state1, NSites))\n",
    "print(prettyPrint(state1 + state2, NSites))\n"
   ]
  },
  {
   "cell_type": "code",
   "execution_count": 43,
   "metadata": {
    "collapsed": false
   },
   "outputs": [
    {
     "data": {
      "text/plain": [
       "array([ 0.,  0.,  0.,  0.,  0.,  0.,  0.,  0.,  0.,  0.,  0.,  0.,  0.,\n",
       "        0.,  0.,  0.,  0.,  0.,  0.,  0.,  0.,  0.,  0.,  0.,  0.,  0.,\n",
       "        0.,  0.,  0.,  0.,  0.,  0.,  1.,  1.,  1.,  1.,  1.,  1.,  1.,\n",
       "        1.,  1.,  1.,  1.,  1.,  1.,  1.,  1.,  1.,  1.,  1.,  1.,  1.,\n",
       "        1.,  1.,  1.,  1.,  1.,  1.,  1.,  1.,  1.,  1.,  1.,  1.])"
      ]
     },
     "execution_count": 43,
     "metadata": {},
     "output_type": "execute_result"
    }
   ],
   "source": [
    "Num(0,np.ones(NStates))"
   ]
  },
  {
   "cell_type": "code",
   "execution_count": 44,
   "metadata": {
    "collapsed": false
   },
   "outputs": [
    {
     "data": {
      "text/plain": [
       "array([ 0.,  0.,  0.,  0.,  0.,  0.,  0.,  0.,  0.,  0.,  0.,  0.,  0.,\n",
       "        0.,  0.,  0.,  1.,  1.,  1.,  1.,  1.,  1.,  1.,  1.,  1.,  1.,\n",
       "        1.,  1.,  1.,  1.,  1.,  1.,  0.,  0.,  0.,  0.,  0.,  0.,  0.,\n",
       "        0.,  0.,  0.,  0.,  0.,  0.,  0.,  0.,  0.,  1.,  1.,  1.,  1.,\n",
       "        1.,  1.,  1.,  1.,  1.,  1.,  1.,  1.,  1.,  1.,  1.,  1.])"
      ]
     },
     "execution_count": 44,
     "metadata": {},
     "output_type": "execute_result"
    }
   ],
   "source": [
    "Num(1,np.ones(NStates))"
   ]
  },
  {
   "cell_type": "code",
   "execution_count": 57,
   "metadata": {
    "collapsed": false
   },
   "outputs": [
    {
     "data": {
      "text/plain": [
       "array([[ 0,  1,  2,  3,  4,  5,  6,  7],\n",
       "       [ 8,  9, 10, 11, 12, 13, 14, 15]])"
      ]
     },
     "execution_count": 57,
     "metadata": {},
     "output_type": "execute_result"
    }
   ],
   "source": [
    "np.arange(16).reshape((2,-1))"
   ]
  },
  {
   "cell_type": "code",
   "execution_count": 90,
   "metadata": {
    "collapsed": false
   },
   "outputs": [
    {
     "data": {
      "text/plain": [
       "array([1], dtype=uint64)"
      ]
     },
     "execution_count": 90,
     "metadata": {},
     "output_type": "execute_result"
    }
   ],
   "source": [
    "popcount64c(np.array( [0b0000111111111 >> 2] ,dtype=np.uint64)) & 0x1"
   ]
  },
  {
   "cell_type": "markdown",
   "metadata": {},
   "source": [
    "Now using these operators we could implement the application of a Hamiltonian fairly easily.\n",
    "But it may be of interest to upconvert single particle hamiltonians to "
   ]
  },
  {
   "cell_type": "code",
   "execution_count": 159,
   "metadata": {
    "collapsed": false
   },
   "outputs": [],
   "source": [
    "def singleSite(i, state):\n",
    "    eps = 1.0\n",
    "    t = 0.5\n",
    "    left = (i+1) % NSites\n",
    "    return eps * Num(i,state) + \\\n",
    "                t * adag(left, agad(i,state)) + \\\n",
    "                t * adag(i, agad(left,state))\n",
    "    \n",
    "\n",
    "def H(state):\n",
    "    return sum([singleSite(i,state) for i in range(NSites)])\n",
    "        \n",
    "        "
   ]
  },
  {
   "cell_type": "code",
   "execution_count": 160,
   "metadata": {
    "collapsed": false
   },
   "outputs": [
    {
     "data": {
      "text/plain": [
       "'0.25 * |000001> + 1.0 * |000010> + 1.5 * |000100> + 1.0 * |001000> + 0.25 * |010000> + 0'"
      ]
     },
     "execution_count": 160,
     "metadata": {},
     "output_type": "execute_result"
    }
   ],
   "source": [
    "state = adag(2,vac(NStates))\n",
    "prettyPrint(H(H(state)), NSites)"
   ]
  },
  {
   "cell_type": "code",
   "execution_count": 165,
   "metadata": {
    "collapsed": true
   },
   "outputs": [],
   "source": [
    "def extractSingleParticleState(state):\n",
    "    return list(map(lambda i: reshapeSite(i,state)[0,1,0], range(NSites)) )\n"
   ]
  },
  {
   "cell_type": "code",
   "execution_count": 167,
   "metadata": {
    "collapsed": false
   },
   "outputs": [
    {
     "data": {
      "text/plain": [
       "[0.25, 1.0, 1.5, 1.0, 0.25, 0.0]"
      ]
     },
     "execution_count": 167,
     "metadata": {},
     "output_type": "execute_result"
    }
   ],
   "source": [
    "extractSingleParticle(H(H(state)))"
   ]
  },
  {
   "cell_type": "code",
   "execution_count": null,
   "metadata": {
    "collapsed": true
   },
   "outputs": [],
   "source": [
    "def matrixForm(operator):\n",
    "    #construct matrix column by column by feeding all basis elements\n",
    "    "
   ]
  },
  {
   "cell_type": "code",
   "execution_count": null,
   "metadata": {
    "collapsed": true
   },
   "outputs": [],
   "source": [
    "def basisDFT(state):\n",
    "    "
   ]
  }
 ],
 "metadata": {
  "kernelspec": {
   "display_name": "Python 3",
   "language": "python",
   "name": "python3"
  },
  "language_info": {
   "codemirror_mode": {
    "name": "ipython",
    "version": 3
   },
   "file_extension": ".py",
   "mimetype": "text/x-python",
   "name": "python",
   "nbconvert_exporter": "python",
   "pygments_lexer": "ipython3",
   "version": "3.5.2"
  }
 },
 "nbformat": 4,
 "nbformat_minor": 2
}
