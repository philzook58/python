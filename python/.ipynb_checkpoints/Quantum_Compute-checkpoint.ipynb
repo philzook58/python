{
 "cells": [
  {
   "cell_type": "code",
   "execution_count": null,
   "metadata": {
    "collapsed": true
   },
   "outputs": [],
   "source": [
    "class UnitVec():\n",
    "    \n",
    "\n",
    "class ListVec(list):\n",
    "    ''' VecList stores vector in form [(vec, amp)]'''\n",
    "    def bind():\n",
    "class HashVec(dict):\n",
    "\n",
    "#Trick a: We can use Kron to replace scalar multiplication\n",
    "\n",
    "class KronVec():\n",
    "    # A holder for (v1,v2) pairs\n",
    "\n",
    "def cnot(g1, g2):\n",
    "    def cnot2(label):\n",
    "        label[g2] = label[g2] != label[g1] #not equal is xor\n",
    "        return label\n",
    "    return cnot2\n",
    "\n",
    "def unit(label):\n",
    "    return [(label, 1.0)]\n",
    "def liftM(f):\n",
    "    return lambda label: unit(f(label))\n",
    "\n",
    "def qcnot(g1, g2):\n",
    "    return liftM(cnot(g1,g2))\n",
    "def bind(v,f):\n",
    "    return [f()]\n",
    "\n",
    "def kron():\n",
    "    \n",
    "def tensor(): # Take a kroned object and pushes the pairing inside\n",
    "    \n",
    "def assoc(): #reassociates the untensed kron\n",
    "    "
   ]
  },
  {
   "cell_type": "code",
   "execution_count": 1,
   "metadata": {
    "collapsed": true
   },
   "outputs": [],
   "source": [
    "from collections import namedtuple\n"
   ]
  },
  {
   "cell_type": "code",
   "execution_count": null,
   "metadata": {
    "collapsed": true
   },
   "outputs": [],
   "source": []
  },
  {
   "cell_type": "markdown",
   "metadata": {},
   "source": [
    "why not use a hash vect? Because of the immutable requirement? But we cna use object id?"
   ]
  }
 ],
 "metadata": {
  "kernelspec": {
   "display_name": "Python 3",
   "language": "python",
   "name": "python3"
  },
  "language_info": {
   "codemirror_mode": {
    "name": "ipython",
    "version": 3
   },
   "file_extension": ".py",
   "mimetype": "text/x-python",
   "name": "python",
   "nbconvert_exporter": "python",
   "pygments_lexer": "ipython3",
   "version": "3.6.2"
  }
 },
 "nbformat": 4,
 "nbformat_minor": 2
}
