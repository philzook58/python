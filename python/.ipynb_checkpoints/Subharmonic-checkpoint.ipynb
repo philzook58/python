{
 "cells": [
  {
   "cell_type": "code",
   "execution_count": 2,
   "metadata": {
    "collapsed": true
   },
   "outputs": [],
   "source": [
    "import numpy as np\n",
    "from scipy.integrate import ode\n",
    "import matplotlib.pyplot as plt\n",
    "%matplotlib inline"
   ]
  },
  {
   "cell_type": "code",
   "execution_count": 68,
   "metadata": {
    "collapsed": false
   },
   "outputs": [],
   "source": [
    "alpha = 0.001\n",
    "def f(t,pq):\n",
    "    x = pq[0]\n",
    "    v = pq[1]\n",
    "    xdot = v\n",
    "    damp = - 0.1 *  v\n",
    "    nonlinear = - 0.08 * x**2\n",
    "    harmonic = -1 * x\n",
    "    forcing = np.cos(  alpha * t *  (t) )\n",
    "    vdot = harmonic  + damp + forcing + nonlinear\n",
    "    return [xdot, vdot] \n",
    "\n",
    "sys = ode(f)\n"
   ]
  },
  {
   "cell_type": "code",
   "execution_count": 69,
   "metadata": {
    "collapsed": false
   },
   "outputs": [],
   "source": [
    "t0 = 0\n",
    "y0 = [0,0]\n",
    "sys.set_initial_value(y0, t0)\n",
    "t = sys.t\n",
    "dt = 0.1\n",
    "sol = []\n",
    "N = 50000\n",
    "for i in range(N):\n",
    "      sol.append(sys.integrate(sys.t+dt)[0])\n",
    "    \n",
    "    "
   ]
  },
  {
   "cell_type": "code",
   "execution_count": 70,
   "metadata": {
    "collapsed": false
   },
   "outputs": [
    {
     "data": {
      "text/plain": [
       "[<matplotlib.lines.Line2D at 0x1181b6a90>]"
      ]
     },
     "execution_count": 70,
     "metadata": {},
     "output_type": "execute_result"
    },
    {
     "data": {
      "image/png": "[encoded data removed]",
      "text/plain": [
       "<matplotlib.figure.Figure at 0x117e51898>"
      ]
     },
     "metadata": {},
     "output_type": "display_data"
    }
   ],
   "source": [
    "w = np.linspace(0, alpha*dt*N , N)\n",
    "plt.plot(w, sol)"
   ]
  },
  {
   "cell_type": "code",
   "execution_count": 83,
   "metadata": {
    "collapsed": true
   },
   "outputs": [],
   "source": [
    "alpha = 0.001\n",
    "def f(t,pq):\n",
    "    x = pq[0]\n",
    "    v = pq[1]\n",
    "    xdot = v\n",
    "    damp = - 0.1 *  v\n",
    "    nonlinear = - 0.08 * x**2\n",
    "    harmonic = -1 * x\n",
    "    forcing = np.cos(  alpha * (5 - t) * (5 - t) )\n",
    "    vdot = harmonic  + damp + forcing + nonlinear\n",
    "    return [xdot, vdot] \n",
    "\n",
    "sys = ode(f)"
   ]
  },
  {
   "cell_type": "code",
   "execution_count": 84,
   "metadata": {
    "collapsed": false
   },
   "outputs": [],
   "source": [
    "t0 = 0\n",
    "y0 = [0,0]\n",
    "sys.set_initial_value(y0, t0)\n",
    "t = sys.t\n",
    "dt = 0.1\n",
    "sol = []\n",
    "N = 50000\n",
    "for i in range(N):\n",
    "      sol.append(sys.integrate(sys.t+dt)[0])"
   ]
  },
  {
   "cell_type": "code",
   "execution_count": 85,
   "metadata": {
    "collapsed": false
   },
   "outputs": [
    {
     "data": {
      "text/plain": [
       "[<matplotlib.lines.Line2D at 0x118eceb70>]"
      ]
     },
     "execution_count": 85,
     "metadata": {},
     "output_type": "execute_result"
    },
    {
     "data": {
      "image/png": "[encoded data removed]",
      "text/plain": [
       "<matplotlib.figure.Figure at 0x115db9080>"
      ]
     },
     "metadata": {},
     "output_type": "display_data"
    }
   ],
   "source": [
    "w = np.linspace(0, alpha*dt*N , N)\n",
    "plt.plot(w, sol)"
   ]
  },
  {
   "cell_type": "code",
   "execution_count": null,
   "metadata": {
    "collapsed": true
   },
   "outputs": [],
   "source": [
    "from scipy.integrate import odeint\n",
    "def g(x, t):\n",
    "    xv = x[0]\n",
    "    g(t)\n",
    "\n"
   ]
  },
  {
   "cell_type": "code",
   "execution_count": 87,
   "metadata": {
    "collapsed": false
   },
   "outputs": [],
   "source": [
    "import sympy as sym\n"
   ]
  },
  {
   "cell_type": "markdown",
   "metadata": {},
   "source": [
    "x,y,z = sym.variable('x y z')"
   ]
  },
  {
   "cell_type": "code",
   "execution_count": 89,
   "metadata": {
    "collapsed": false
   },
   "outputs": [],
   "source": [
    "x,y,z = sym.symbols('x y z')"
   ]
  },
  {
   "cell_type": "code",
   "execution_count": 90,
   "metadata": {
    "collapsed": true
   },
   "outputs": [],
   "source": [
    "expr = x ** 2 + y"
   ]
  },
  {
   "cell_type": "code",
   "execution_count": 91,
   "metadata": {
    "collapsed": false
   },
   "outputs": [
    {
     "data": {
      "text/plain": [
       "x**2 + y"
      ]
     },
     "execution_count": 91,
     "metadata": {},
     "output_type": "execute_result"
    }
   ],
   "source": [
    "expr"
   ]
  },
  {
   "cell_type": "code",
   "execution_count": 92,
   "metadata": {
    "collapsed": false
   },
   "outputs": [
    {
     "data": {
      "text/plain": [
       "2*x"
      ]
     },
     "execution_count": 92,
     "metadata": {},
     "output_type": "execute_result"
    }
   ],
   "source": [
    "sym.diff(expr, x)"
   ]
  },
  {
   "cell_type": "code",
   "execution_count": 94,
   "metadata": {
    "collapsed": false
   },
   "outputs": [
    {
     "data": {
      "text/plain": [
       "0"
      ]
     },
     "execution_count": 94,
     "metadata": {},
     "output_type": "execute_result"
    }
   ],
   "source": [
    "sym.diff(x,y)"
   ]
  },
  {
   "cell_type": "code",
   "execution_count": 95,
   "metadata": {
    "collapsed": true
   },
   "outputs": [],
   "source": [
    "f = sym.Function('f')"
   ]
  },
  {
   "cell_type": "code",
   "execution_count": 96,
   "metadata": {
    "collapsed": false
   },
   "outputs": [
    {
     "data": {
      "text/plain": [
       "Derivative(f(x), x, x)"
      ]
     },
     "execution_count": 96,
     "metadata": {},
     "output_type": "execute_result"
    }
   ],
   "source": [
    "f(x).diff(x,2)"
   ]
  },
  {
   "cell_type": "code",
   "execution_count": 101,
   "metadata": {
    "collapsed": false
   },
   "outputs": [
    {
     "data": {
      "text/plain": [
       "[Eq(sin(theta(t))*cos(theta(t))*Derivative(phi(t), t)**2 - Derivative(theta(t), t, t), 0),\n",
       " Eq(-(sin(theta(t))*Derivative(phi(t), t, t) + 2*cos(theta(t))*Derivative(phi(t), t)*Derivative(theta(t), t))*sin(theta(t)), 0)]"
      ]
     },
     "execution_count": 101,
     "metadata": {},
     "output_type": "execute_result"
    }
   ],
   "source": [
    "from sympy import Symbol, Function\n",
    "from sympy.calculus.euler import euler_equations\n",
    "theta = Function('theta')\n",
    "phi = Function('phi')\n",
    "t = Symbol('t')\n",
    "n = sym.Matrix([sym.sin(theta(t))* sym.cos(phi(t))  ,sym.sin(theta(t))* sym.sin(phi(t))  ,sym.cos(theta(t))])\n",
    "\n",
    "L = (theta(t).diff(t))**2/2 + (sym.sin(theta(t))*phi(t).diff(t))**2/2\n",
    "euler_equations(L, [theta(t),phi(t)], t)\n",
    "\n"
   ]
  },
  {
   "cell_type": "code",
   "execution_count": null,
   "metadata": {
    "collapsed": true
   },
   "outputs": [],
   "source": []
  }
 ],
 "metadata": {
  "kernelspec": {
   "display_name": "Python 3",
   "language": "python",
   "name": "python3"
  },
  "language_info": {
   "codemirror_mode": {
    "name": "ipython",
    "version": 3
   },
   "file_extension": ".py",
   "mimetype": "text/x-python",
   "name": "python",
   "nbconvert_exporter": "python",
   "pygments_lexer": "ipython3",
   "version": "3.5.1"
  }
 },
 "nbformat": 4,
 "nbformat_minor": 2
}
