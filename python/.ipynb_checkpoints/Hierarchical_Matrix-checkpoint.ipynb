{
 "cells": [
  {
   "cell_type": "code",
   "execution_count": 1,
   "metadata": {
    "collapsed": true
   },
   "outputs": [],
   "source": [
    "import numpy as np\n"
   ]
  },
  {
   "cell_type": "markdown",
   "metadata": {},
   "source": [
    "The Class based approach"
   ]
  },
  {
   "cell_type": "code",
   "execution_count": 2,
   "metadata": {
    "collapsed": true
   },
   "outputs": [],
   "source": [
    "class RkMatrix():\n",
    "    def __init__(self, a, b):\n",
    "        self.a = a\n",
    "        self.b = b\n",
    "    def dot(self, c):\n",
    "        return np.dot(a,np.dot(b,c))\n",
    "    def convertDense(a, eps=1e-6):\n",
    "        u, s, v = np.linalg.svd(a, full_matrices=False)\n",
    "        #sdiag = np.diag(s)\n",
    "        print(s < eps)\n",
    "        maxind = np.argmax(s < eps)\n",
    "        print(maxind)\n",
    "        s = s[:maxind]\n",
    "        u = u[:,:maxind]\n",
    "        v = v[:maxind,:]\n",
    "        return RkMatrix(u, np.dot(np.diag(s),v))\n",
    "    def toDense(self):\n",
    "        return self.a.dot(self.b)\n",
    "\n",
    "class SuperMatrix():\n",
    "    def __init__(self, a, b ,c , d):\n",
    "        self.a = a\n",
    "        self.b = b\n",
    "        self.c = c\n",
    "        self.d = d\n",
    "    def dot(self, q):\n",
    "        if type(q) is SuperMatrix:\n",
    "            newa = self.a.dot(q.a) + self.b.dot(q.c)\n",
    "            newb = self.a.dot(q.b) + self.b.dot(q.d)\n",
    "            newc = self.c.dot(q.a) + self.d.dot(q.c)\n",
    "            newd = self.c.dot(q.b) + self.d.dot(q.d)\n",
    "            return SuperMatrix(newa, newb, newc, newd)\n",
    "        else:\n",
    "            return self.toDense().dot(q)\n",
    "    def toDense(self):\n",
    "        return np.hstack((np.vstack((self.a, self.c)), np.vstack((self.b, self.d))))\n",
    "        \n",
    "        \n",
    "\n",
    "        "
   ]
  },
  {
   "cell_type": "code",
   "execution_count": 3,
   "metadata": {},
   "outputs": [
    {
     "data": {
      "text/plain": [
       "array([[ 1.,  0.,  2.,  0.],\n",
       "       [ 0.,  1.,  0.,  2.],\n",
       "       [ 3.,  0.,  4.,  0.],\n",
       "       [ 0.,  3.,  0.,  4.]])"
      ]
     },
     "execution_count": 3,
     "metadata": {},
     "output_type": "execute_result"
    }
   ],
   "source": [
    "SuperMatrix(np.eye(2),2*np.eye(2),3*np.eye(2),4*np.eye(2) ).toDense()"
   ]
  },
  {
   "cell_type": "code",
   "execution_count": 4,
   "metadata": {},
   "outputs": [
    {
     "data": {
      "text/plain": [
       "array([[ 1.,  0.,  2.,  0.],\n",
       "       [ 0.,  1.,  0.,  2.],\n",
       "       [ 3.,  0.,  4.,  0.],\n",
       "       [ 0.,  3.,  0.,  4.]])"
      ]
     },
     "execution_count": 4,
     "metadata": {},
     "output_type": "execute_result"
    }
   ],
   "source": [
    "a = SuperMatrix(np.eye(2),2*np.eye(2),3*np.eye(2),4*np.eye(2) )\n",
    "b = SuperMatrix(np.eye(2),np.zeros((2,2)),np.zeros((2,2)),np.eye(2) )\n",
    "b.dot(a).toDense()"
   ]
  },
  {
   "cell_type": "code",
   "execution_count": 5,
   "metadata": {},
   "outputs": [
    {
     "name": "stdout",
     "output_type": "stream",
     "text": [
      "[False False False]\n",
      "0\n"
     ]
    },
    {
     "data": {
      "text/plain": [
       "array([[ 0.,  0.,  0.],\n",
       "       [ 0.,  0.,  0.],\n",
       "       [ 0.,  0.,  0.]])"
      ]
     },
     "execution_count": 5,
     "metadata": {},
     "output_type": "execute_result"
    }
   ],
   "source": [
    "RkMatrix.convertDense(np.eye(3)).toDense()"
   ]
  },
  {
   "cell_type": "code",
   "execution_count": 6,
   "metadata": {},
   "outputs": [
    {
     "data": {
      "text/plain": [
       "(array([[ 1.,  0.,  0.],\n",
       "        [ 0.,  1.,  0.],\n",
       "        [ 0.,  0.,  1.]]), array([ 1.,  1.,  1.]), array([[ 1.,  0.,  0.],\n",
       "        [ 0.,  1.,  0.],\n",
       "        [ 0.,  0.,  1.]]))"
      ]
     },
     "execution_count": 6,
     "metadata": {},
     "output_type": "execute_result"
    }
   ],
   "source": [
    " np.linalg.svd(np.eye(3), full_matrices=False)"
   ]
  },
  {
   "cell_type": "markdown",
   "metadata": {},
   "source": [
    "Fully balanced tree can be implemented in array"
   ]
  },
  {
   "cell_type": "code",
   "execution_count": 7,
   "metadata": {},
   "outputs": [
    {
     "name": "stdout",
     "output_type": "stream",
     "text": [
      "0\n",
      "1\n",
      "2\n",
      "3\n",
      "4\n",
      "5\n",
      "6\n",
      "7\n",
      "8\n",
      "9\n",
      "10\n",
      "11\n",
      "12\n",
      "13\n",
      "14\n"
     ]
    }
   ],
   "source": [
    "\n",
    "# Ok. So a fully balanced binary tree with powern levels.\n",
    "# We can build Arrays like that\n",
    "levelnum = 4\n",
    "\n",
    "for level in range(levelnum):\n",
    "    for x in range(2**level):\n",
    "        node = 2**level + x -1\n",
    "        print(node)\n",
    "        \n",
    "        "
   ]
  },
  {
   "cell_type": "markdown",
   "metadata": {},
   "source": [
    "Use Z-ordering to interweave indices."
   ]
  },
  {
   "cell_type": "code",
   "execution_count": 8,
   "metadata": {
    "collapsed": true
   },
   "outputs": [],
   "source": [
    "def morton(x):\n",
    "    nexp = 21\n",
    "    z = 0\n",
    "    for i in range(nexp):\n",
    "        z |= (x & (1 << i)) << i #mask then shift double\n",
    "    return z\n",
    "def unmorton(z):\n",
    "    nexp = 21\n",
    "    x = 0\n",
    "    for i in range(nexp):\n",
    "        x |= (z >> i) & (1 << i)\n",
    "    return x\n",
    "def zorder(x,y):\n",
    "    z = morton(x) | (morton(y) << 1)\n",
    "    return z\n",
    "def unzorder(z):\n",
    "    return unmorton(z), unmorton(z >> 1)\n"
   ]
  },
  {
   "cell_type": "code",
   "execution_count": 9,
   "metadata": {},
   "outputs": [
    {
     "name": "stdout",
     "output_type": "stream",
     "text": [
      "0b1110\n"
     ]
    },
    {
     "data": {
      "text/plain": [
       "'0b1010100'"
      ]
     },
     "execution_count": 9,
     "metadata": {},
     "output_type": "execute_result"
    }
   ],
   "source": [
    "print(bin(14))\n",
    "bin(morton(14))"
   ]
  },
  {
   "cell_type": "markdown",
   "metadata": {},
   "source": [
    "Just checking some basic reversibility. Good use for quickcheck."
   ]
  },
  {
   "cell_type": "code",
   "execution_count": 10,
   "metadata": {},
   "outputs": [
    {
     "data": {
      "text/plain": [
       "31"
      ]
     },
     "execution_count": 10,
     "metadata": {},
     "output_type": "execute_result"
    }
   ],
   "source": [
    "unmorton(morton(31))\n"
   ]
  },
  {
   "cell_type": "code",
   "execution_count": 11,
   "metadata": {},
   "outputs": [
    {
     "data": {
      "text/plain": [
       "(223233, 654)"
      ]
     },
     "execution_count": 11,
     "metadata": {},
     "output_type": "execute_result"
    }
   ],
   "source": [
    "unzorder(zorder(223233,654))"
   ]
  },
  {
   "cell_type": "code",
   "execution_count": 12,
   "metadata": {},
   "outputs": [
    {
     "data": {
      "text/plain": [
       "array([ 0,  1,  4,  5, 16, 17, 20, 21, 64, 65])"
      ]
     },
     "execution_count": 12,
     "metadata": {},
     "output_type": "execute_result"
    }
   ],
   "source": [
    "np.vectorize(morton)(np.arange(10))"
   ]
  },
  {
   "cell_type": "code",
   "execution_count": 13,
   "metadata": {},
   "outputs": [
    {
     "data": {
      "text/plain": [
       "(array([0, 1, 0, 1, 2, 3, 2, 3, 0, 1, 0, 1, 2, 3, 2, 3]),\n",
       " array([0, 0, 1, 1, 0, 0, 1, 1, 2, 2, 3, 3, 2, 2, 3, 3]))"
      ]
     },
     "execution_count": 13,
     "metadata": {},
     "output_type": "execute_result"
    }
   ],
   "source": [
    "np.vectorize(unzorder)(np.arange(16))"
   ]
  },
  {
   "cell_type": "code",
   "execution_count": 14,
   "metadata": {
    "collapsed": true
   },
   "outputs": [],
   "source": [
    "def xyindices(powern):\n",
    "    return np.vectorize(unzorder)(np.arange(4**powern))"
   ]
  },
  {
   "cell_type": "code",
   "execution_count": 15,
   "metadata": {
    "collapsed": true
   },
   "outputs": [],
   "source": [
    "x, y = xyindices(6)"
   ]
  },
  {
   "cell_type": "code",
   "execution_count": 16,
   "metadata": {},
   "outputs": [
    {
     "data": {
      "text/plain": [
       "4096"
      ]
     },
     "execution_count": 16,
     "metadata": {},
     "output_type": "execute_result"
    }
   ],
   "source": [
    "4**6"
   ]
  },
  {
   "cell_type": "code",
   "execution_count": 17,
   "metadata": {
    "collapsed": true
   },
   "outputs": [],
   "source": [
    "def inify(x):\n",
    "    return x.reshape((1,-1))\n",
    "def outify(x):\n",
    "    return x.reshape((-1,1))\n",
    "def rescale(x, powern):\n",
    "    return (x+1) / (2**powern + 1)\n",
    "\n",
    "def xycoords(powern):\n",
    "    x, y = xyindices(powern)\n",
    "    xin = rescale(inify(x), powern)\n",
    "    xout = rescale(outify(x), powern)\n",
    "    yin = rescale(inify(y), powern)\n",
    "    yout = rescale(outify(y), powern)\n",
    "    return xin, xout, yin, yout"
   ]
  },
  {
   "cell_type": "code",
   "execution_count": 18,
   "metadata": {
    "collapsed": true
   },
   "outputs": [],
   "source": [
    "xin, xout, yin, yout = xycoords(6)"
   ]
  },
  {
   "cell_type": "code",
   "execution_count": 19,
   "metadata": {},
   "outputs": [
    {
     "data": {
      "text/plain": [
       "array([[ 0.01538462,  0.03076923,  0.01538462, ...,  0.98461538,\n",
       "         0.96923077,  0.98461538]])"
      ]
     },
     "execution_count": 19,
     "metadata": {},
     "output_type": "execute_result"
    }
   ],
   "source": [
    "xin"
   ]
  },
  {
   "cell_type": "code",
   "execution_count": 20,
   "metadata": {
    "collapsed": true
   },
   "outputs": [],
   "source": [
    "#Dense G\n",
    "eps = 0.01\n",
    "G = np.log((xin-xout)**2 + (yin-yout)**2 + eps )"
   ]
  },
  {
   "cell_type": "code",
   "execution_count": 21,
   "metadata": {},
   "outputs": [
    {
     "data": {
      "text/plain": [
       "(4096, 4096)"
      ]
     },
     "execution_count": 21,
     "metadata": {},
     "output_type": "execute_result"
    }
   ],
   "source": [
    "G.shape"
   ]
  },
  {
   "cell_type": "code",
   "execution_count": 22,
   "metadata": {
    "collapsed": true
   },
   "outputs": [],
   "source": [
    "import matplotlib.pyplot as plt\n",
    "from mpl_toolkits.mplot3d import Axes3D\n",
    "%matplotlib inline\n"
   ]
  },
  {
   "cell_type": "code",
   "execution_count": 23,
   "metadata": {},
   "outputs": [
    {
     "data": {
      "text/plain": [
       "<mpl_toolkits.mplot3d.art3d.Poly3DCollection at 0x118079e10>"
      ]
     },
     "execution_count": 23,
     "metadata": {},
     "output_type": "execute_result"
    },
    {
     "data": {
      "image/png": "[encoded data removed]",
      "text/plain": [
       "<matplotlib.figure.Figure at 0x118024908>"
      ]
     },
     "metadata": {},
     "output_type": "display_data"
    }
   ],
   "source": [
    "fig = plt.figure()\n",
    "ax = fig.add_subplot(111, projection='3d')\n",
    "ax.plot_trisurf(xin.flatten(), yin.flatten(), G[0,:])"
   ]
  },
  {
   "cell_type": "markdown",
   "metadata": {},
   "source": [
    "Well That looks about right."
   ]
  },
  {
   "cell_type": "markdown",
   "metadata": {},
   "source": [
    "4096 * 4096"
   ]
  },
  {
   "cell_type": "code",
   "execution_count": 24,
   "metadata": {},
   "outputs": [
    {
     "data": {
      "text/plain": [
       "16777216"
      ]
     },
     "execution_count": 24,
     "metadata": {},
     "output_type": "execute_result"
    }
   ],
   "source": [
    "4096*4096"
   ]
  },
  {
   "cell_type": "code",
   "execution_count": 25,
   "metadata": {
    "collapsed": true
   },
   "outputs": [],
   "source": [
    "import scipy.linalg.interpolative as sli\n"
   ]
  },
  {
   "cell_type": "code",
   "execution_count": 26,
   "metadata": {
    "collapsed": true
   },
   "outputs": [],
   "source": [
    "eps = 1e-6\n",
    "k = sli.estimate_rank(G, eps)"
   ]
  },
  {
   "cell_type": "code",
   "execution_count": 27,
   "metadata": {},
   "outputs": [
    {
     "data": {
      "text/plain": [
       "1852"
      ]
     },
     "execution_count": 27,
     "metadata": {},
     "output_type": "execute_result"
    }
   ],
   "source": [
    "k"
   ]
  },
  {
   "cell_type": "code",
   "execution_count": 28,
   "metadata": {},
   "outputs": [
    {
     "name": "stdout",
     "output_type": "stream",
     "text": [
      "60\n"
     ]
    }
   ],
   "source": [
    "eps = 1e-12\n",
    "k = sli.estimate_rank(G[:1024, 3584:], eps)\n",
    "print(k)"
   ]
  },
  {
   "cell_type": "code",
   "execution_count": 29,
   "metadata": {},
   "outputs": [
    {
     "data": {
      "text/plain": [
       "60"
      ]
     },
     "execution_count": 29,
     "metadata": {},
     "output_type": "execute_result"
    }
   ],
   "source": [
    "k"
   ]
  },
  {
   "cell_type": "code",
   "execution_count": 30,
   "metadata": {},
   "outputs": [
    {
     "name": "stdout",
     "output_type": "stream",
     "text": [
      "level 0\n",
      "diag 2048.0\n",
      "0 4096\n",
      "level 1\n",
      "diag 2048.0\n",
      "0 2048\n",
      "diag 2048.0\n",
      "2048 4096\n",
      "level 2\n",
      "diag 2048.0\n",
      "0 1024\n",
      "diag 2048.0\n",
      "1024 2048\n",
      "diag 2048.0\n",
      "2048 3072\n",
      "diag 2048.0\n",
      "3072 4096\n",
      "level 3\n",
      "diag 2048.0\n",
      "0 512\n",
      "diag 2048.0\n",
      "512 1024\n",
      "diag 2048.0\n",
      "1024 1536\n",
      "diag 2048.0\n",
      "1536 2048\n",
      "diag 2048.0\n",
      "2048 2560\n",
      "diag 2048.0\n",
      "2560 3072\n",
      "diag 2048.0\n",
      "3072 3584\n",
      "diag 2048.0\n",
      "3584 4096\n"
     ]
    }
   ],
   "source": [
    "# Ok. So a fully balanced binary tree with powern levels.\n",
    "# We can build Arrays like that\n",
    "levelnum = 4\n",
    "num = G.shape[0]\n",
    "for level in range(levelnum):\n",
    "    print(\"level\", level)\n",
    "    for x in range(2**level):\n",
    "        print(\"diag\", num/2)\n",
    "        node = 2**level + x - 1\n",
    "        z1 = x * num//(2**level)\n",
    "        z2 =  (x + 1) * num//(2**level)\n",
    "        print(z1,z2)\n",
    "        #print(G[z1:z2,z1:z2])\n",
    "        #print(node)\n",
    "        "
   ]
  },
  {
   "cell_type": "markdown",
   "metadata": {},
   "source": [
    "Hmm. I only want to visit once each block.\n",
    "Could store a Matrix of true and false values saying whether already done or not.\n",
    "Then the factored matrix has to be stored with indices. which isn't so bad.\n",
    "[(b1 ,b2,b3,b4, A,B)]. That sort of thign.\n",
    "Or just pop a couple layersdown the tree and only do the sufficiently off diagonal.\n",
    "On the last level, you need to grab the dense diagonals."
   ]
  },
  {
   "cell_type": "code",
   "execution_count": 32,
   "metadata": {},
   "outputs": [
    {
     "data": {
      "text/plain": [
       "True"
      ]
     },
     "execution_count": 32,
     "metadata": {},
     "output_type": "execute_result"
    }
   ],
   "source": [
    "type(np.zeros(3)) is np.ndarray"
   ]
  },
  {
   "cell_type": "code",
   "execution_count": 79,
   "metadata": {},
   "outputs": [],
   "source": [
    "class RkIDMatrix():\n",
    "    def __init__(self, B, P, k):\n",
    "        self.B = B\n",
    "        self.P = P\n",
    "        self.k = k\n",
    "    def dot(self, c):\n",
    "        return np.dot(self.B,np.dot(self.P,c))\n",
    "    def convertDense(A, eps=1e-13):\n",
    "        k, idx, proj = sli.interp_decomp(A, eps)\n",
    "        B = sli.reconstruct_skel_matrix(A, k, idx)\n",
    "        P = sli.reconstruct_interp_matrix(idx, proj)\n",
    "        return RkIDMatrix(B,P,k)\n",
    "    def toDense(self):\n",
    "        return np.dot(self.B, self.P)\n",
    "\n",
    "class SuperMatrix():\n",
    "    def __init__(self, a, b ,c , d, i ,j):\n",
    "        self.a = a\n",
    "        self.b = b\n",
    "        self.c = c\n",
    "        self.d = d\n",
    "        self.i = i\n",
    "        self.j = j\n",
    "    def dot(self, q):\n",
    "        if type(q) is SuperMatrix:\n",
    "            newa = self.a.dot(q.a) + self.b.dot(q.c)\n",
    "            newb = self.a.dot(q.b) + self.b.dot(q.d)\n",
    "            newc = self.c.dot(q.a) + self.d.dot(q.c)\n",
    "            newd = self.c.dot(q.b) + self.d.dot(q.d)\n",
    "            return SuperMatrix(newa, newb, newc, newd)\n",
    "        elif type(q) is np.ndarray:\n",
    "            \n",
    "            qup = self.a.dot(q[:self.j//2]) + self.b.dot(q[self.j//2:])\n",
    "            qdown = self.c.dot(q[:self.j//2]) + self.d.dot(q[self.j//2:])\n",
    "            return np.hstack((qup,qdown))\n",
    "        else:\n",
    "            return self.toDense().dot(q)\n",
    "        \n",
    "    def convertDense(L):\n",
    "        i, j = L.shape\n",
    "        A = L[:i//2,:j//2]\n",
    "        B = L[:i//2,j//2:]\n",
    "        C = L[i//2:,:j//2]\n",
    "        D = L[i//2:,j//2:]\n",
    "        if sli.estimate_rank(A, 1e-14) < 100:\n",
    "            A = RkIDMatrix.convertDense(A)\n",
    "        else:\n",
    "            A = SuperMatrix.convertDense(A)\n",
    "        if sli.estimate_rank(B, 1e-14) < 100:\n",
    "            B = RkIDMatrix.convertDense(B)\n",
    "        else:\n",
    "            B = SuperMatrix.convertDense(B)\n",
    "        if sli.estimate_rank(C, 1e-14) < 100:\n",
    "            C = RkIDMatrix.convertDense(C)\n",
    "        else:\n",
    "            C = SuperMatrix.convertDense(C)\n",
    "        if sli.estimate_rank(D, 1e-14) < 100:\n",
    "            D = RkIDMatrix.convertDense(D)\n",
    "        else:\n",
    "            D = SuperMatrix.convertDense(D)\n",
    "        return SuperMatrix(A,B,C,D, i ,j) \n",
    "    \n",
    "    def toDense(self):\n",
    "        return np.hstack((np.vstack((self.a, self.c)), np.vstack((self.b, self.d))))\n",
    "    \n",
    "#class DenseMatrix():\n",
    "    "
   ]
  },
  {
   "cell_type": "code",
   "execution_count": 39,
   "metadata": {},
   "outputs": [],
   "source": [
    "rtest = RkIDMatrix.convertDense(G[:16,:16])"
   ]
  },
  {
   "cell_type": "code",
   "execution_count": 81,
   "metadata": {},
   "outputs": [
    {
     "data": {
      "text/plain": [
       "2.5255152109346131e-11"
      ]
     },
     "execution_count": 81,
     "metadata": {},
     "output_type": "execute_result"
    }
   ],
   "source": [
    "xin, xout, yin, yout = xycoords(6)\n",
    "G = np.log((xin-xout)**2 + (yin-yout)**2 + eps )\n",
    "Gtilde = SuperMatrix.convertDense(G)\n",
    "x = np.zeros(G.shape[0])\n",
    "x[1] = 1\n",
    "np.linalg.norm(G.dot(x) - Gtilde.dot(x))"
   ]
  },
  {
   "cell_type": "code",
   "execution_count": 73,
   "metadata": {},
   "outputs": [
    {
     "data": {
      "text/plain": [
       "array([[ -4.39444915, -27.63102112,  -3.70130197,  -4.39444915,\n",
       "         -4.39444915,  -3.00815479,  -3.70130197,  -2.78501124,\n",
       "         -2.78501124,  -3.00815479,  -2.09186406,  -2.19722458,\n",
       "         -2.78501124,  -2.31500761,  -2.09186406,  -1.8294998 ,\n",
       "         -2.19722458,  -1.62186043,  -2.09186406,  -1.56123581,\n",
       "         -1.17557333,  -0.81093022,  -1.13635262,  -0.78353124,\n",
       "         -1.8294998 ,  -1.39871688,  -1.5040774 ,  -1.17557333,\n",
       "         -1.02715332,  -0.7055697 ,  -0.86808863,  -0.58778666],\n",
       "       [ -1.56123581,  -1.62186043,  -1.13635262,  -1.17557333,\n",
       "         -1.56123581,  -1.39871688,  -1.13635262,  -1.02715332,\n",
       "         -0.78353124,  -0.81093022,  -0.48242615,  -0.50262886,\n",
       "         -0.78353124,  -0.7055697 ,  -0.48242615,  -0.42415724,\n",
       "         -1.17557333,  -0.92871325,  -0.86808863,  -0.68087709,\n",
       "         -0.68087709,  -0.44320544,  -0.48242615,  -0.28357529,\n",
       "         -0.58778666,  -0.44320544,  -0.33400614,  -0.22006188,\n",
       "         -0.28357529,  -0.11778304,  -0.09038406,   0.0482021 ]])"
      ]
     },
     "execution_count": 73,
     "metadata": {},
     "output_type": "execute_result"
    }
   ],
   "source": [
    "Gtilde.dot(x)"
   ]
  },
  {
   "cell_type": "markdown",
   "metadata": {},
   "source": [
    "Really need to start at th bottom and work up.\n",
    "Even getting the estimates at the top level is proabbly where a lot of time goes.\n",
    "Call stack is only 8 or something. so that isn't so bad."
   ]
  },
  {
   "cell_type": "code",
   "execution_count": 78,
   "metadata": {},
   "outputs": [
    {
     "data": {
      "text/plain": [
       "array([ 0.,  0.,  0.,  0.,  0.,  0.,  0.])"
      ]
     },
     "execution_count": 78,
     "metadata": {},
     "output_type": "execute_result"
    }
   ],
   "source": [
    "np.hstack((np.zeros(3),np.zeros(4)))"
   ]
  },
  {
   "cell_type": "code",
   "execution_count": null,
   "metadata": {
    "collapsed": true
   },
   "outputs": [],
   "source": []
  }
 ],
 "metadata": {
  "kernelspec": {
   "display_name": "Python 3",
   "language": "python",
   "name": "python3"
  },
  "language_info": {
   "codemirror_mode": {
    "name": "ipython",
    "version": 3
   },
   "file_extension": ".py",
   "mimetype": "text/x-python",
   "name": "python",
   "nbconvert_exporter": "python",
   "pygments_lexer": "ipython3",
   "version": "3.5.1"
  }
 },
 "nbformat": 4,
 "nbformat_minor": 2
}
