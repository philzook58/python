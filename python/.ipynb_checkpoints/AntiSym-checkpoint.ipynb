{
 "cells": [
  {
   "cell_type": "code",
   "execution_count": 1,
   "metadata": {
    "collapsed": true
   },
   "outputs": [],
   "source": [
    "import numpy as np"
   ]
  },
  {
   "cell_type": "code",
   "execution_count": 19,
   "metadata": {
    "collapsed": true
   },
   "outputs": [],
   "source": [
    "a = 1\n",
    "N = 10\n",
    "def kstate(k):\n",
    "    return np.exp( 1.j * k * a * np.arange(N))\n",
    "state1 = [kstate(0)]\n",
    "state2 = map(lambda x: np.vstack((kstate(1), x))  , state1)\n",
    "\n",
    "def addk(k, state):\n",
    "    if len(state) == 0:\n",
    "        return [kstate(k)]\n",
    "    else:\n",
    "        return map(lambda x: np.vstack((kstate(k), x))  , state)\n",
    "    "
   ]
  },
  {
   "cell_type": "code",
   "execution_count": 7,
   "metadata": {},
   "outputs": [
    {
     "data": {
      "text/plain": [
       "[array([[ 1.00000000+0.j        ,  0.54030231+0.84147098j,\n",
       "         -0.41614684+0.90929743j, -0.98999250+0.14112001j,\n",
       "         -0.65364362-0.7568025j ,  0.28366219-0.95892427j,\n",
       "          0.96017029-0.2794155j ,  0.75390225+0.6569866j ,\n",
       "         -0.14550003+0.98935825j, -0.91113026+0.41211849j],\n",
       "        [ 1.00000000+0.j        ,  1.00000000+0.j        ,\n",
       "          1.00000000+0.j        ,  1.00000000+0.j        ,\n",
       "          1.00000000+0.j        ,  1.00000000+0.j        ,\n",
       "          1.00000000+0.j        ,  1.00000000+0.j        ,\n",
       "          1.00000000+0.j        ,  1.00000000+0.j        ]])]"
      ]
     },
     "execution_count": 7,
     "metadata": {},
     "output_type": "execute_result"
    }
   ],
   "source": [
    "list(state2)"
   ]
  },
  {
   "cell_type": "code",
   "execution_count": 70,
   "metadata": {},
   "outputs": [],
   "source": [
    "from scipy.special import factorial\n",
    "def simpleinner(v1,v2):\n",
    "    if v1.shape[0] == v2.shape[0]:\n",
    "        return np.linalg.det(np.dot(v1, np.conj(v2.T)))  #/  factorial(v1.shape[0],exact=False)\n",
    "    else:\n",
    "        return 0\n",
    "\n",
    "def inner(v1s, v2s):\n",
    "    if len(v1s) == 0 and len(v2s) == 0:\n",
    "        return 1.0\n",
    "    else:\n",
    "            \n",
    "        return sum([ simpleinner(v1, v2) for v1 in v1s for v2 in v2s])\n"
   ]
  },
  {
   "cell_type": "code",
   "execution_count": 58,
   "metadata": {},
   "outputs": [],
   "source": [
    "def fermistate(kf):\n",
    "    return [np.exp( 2.j * np.pi * np.arange(kf).reshape((-1,1)) * np.arange(N).reshape((1,-1)) / N) / np.sqrt(N)]"
   ]
  },
  {
   "cell_type": "code",
   "execution_count": 59,
   "metadata": {},
   "outputs": [],
   "source": [
    "halffilled = fermistate(N//2)"
   ]
  },
  {
   "cell_type": "code",
   "execution_count": 42,
   "metadata": {},
   "outputs": [
    {
     "data": {
      "text/plain": [
       "(5, 10)"
      ]
     },
     "execution_count": 42,
     "metadata": {},
     "output_type": "execute_result"
    }
   ],
   "source": [
    "halffilled[0].shape"
   ]
  },
  {
   "cell_type": "code",
   "execution_count": 24,
   "metadata": {
    "collapsed": true
   },
   "outputs": [
    {
     "data": {
      "text/plain": [
       "[array([[ 1.00000000 +0.00000000e+00j, -0.98999250 +1.41120008e-01j,\n",
       "          0.96017029 -2.79415498e-01j, -0.91113026 +4.12118485e-01j,\n",
       "          0.84385396 -5.36572918e-01j, -0.75968791 +6.50287840e-01j,\n",
       "          0.66031671 -7.50987247e-01j, -0.54772926 +8.36655639e-01j,\n",
       "          0.42417901 -9.05578362e-01j, -0.29213881 +9.56375928e-01j],\n",
       "        [ 1.00000000 +0.00000000e+00j,  1.00000000 +0.00000000e+00j,\n",
       "          1.00000000 +0.00000000e+00j,  1.00000000 +0.00000000e+00j,\n",
       "          1.00000000 +0.00000000e+00j,  1.00000000 +0.00000000e+00j,\n",
       "          1.00000000 +0.00000000e+00j,  1.00000000 +0.00000000e+00j,\n",
       "          1.00000000 +0.00000000e+00j,  1.00000000 +0.00000000e+00j],\n",
       "        [ 1.00000000 +0.00000000e+00j,  0.80901699 +5.87785252e-01j,\n",
       "          0.30901699 +9.51056516e-01j, -0.30901699 +9.51056516e-01j,\n",
       "         -0.80901699 +5.87785252e-01j, -1.00000000 +1.22464680e-16j,\n",
       "         -0.80901699 -5.87785252e-01j, -0.30901699 -9.51056516e-01j,\n",
       "          0.30901699 -9.51056516e-01j,  0.80901699 -5.87785252e-01j],\n",
       "        [ 1.00000000 +0.00000000e+00j,  0.30901699 +9.51056516e-01j,\n",
       "         -0.80901699 +5.87785252e-01j, -0.80901699 -5.87785252e-01j,\n",
       "          0.30901699 -9.51056516e-01j,  1.00000000 -2.44929360e-16j,\n",
       "          0.30901699 +9.51056516e-01j, -0.80901699 +5.87785252e-01j,\n",
       "         -0.80901699 -5.87785252e-01j,  0.30901699 -9.51056516e-01j],\n",
       "        [ 1.00000000 +0.00000000e+00j, -0.30901699 +9.51056516e-01j,\n",
       "         -0.80901699 -5.87785252e-01j,  0.80901699 -5.87785252e-01j,\n",
       "          0.30901699 +9.51056516e-01j, -1.00000000 +3.67394040e-16j,\n",
       "          0.30901699 -9.51056516e-01j,  0.80901699 +5.87785252e-01j,\n",
       "         -0.80901699 +5.87785252e-01j, -0.30901699 -9.51056516e-01j],\n",
       "        [ 1.00000000 +0.00000000e+00j, -0.80901699 +5.87785252e-01j,\n",
       "          0.30901699 -9.51056516e-01j,  0.30901699 +9.51056516e-01j,\n",
       "         -0.80901699 -5.87785252e-01j,  1.00000000 -4.89858720e-16j,\n",
       "         -0.80901699 +5.87785252e-01j,  0.30901699 -9.51056516e-01j,\n",
       "          0.30901699 +9.51056516e-01j, -0.80901699 -5.87785252e-01j]])]"
      ]
     },
     "execution_count": 24,
     "metadata": {},
     "output_type": "execute_result"
    }
   ],
   "source": [
    "list(addk(3, halffilled))"
   ]
  },
  {
   "cell_type": "code",
   "execution_count": 64,
   "metadata": {},
   "outputs": [
    {
     "data": {
      "text/plain": [
       "(0.99999999999999989+0j)"
      ]
     },
     "execution_count": 64,
     "metadata": {},
     "output_type": "execute_result"
    }
   ],
   "source": [
    "inner(halffilled,halffilled)"
   ]
  },
  {
   "cell_type": "code",
   "execution_count": 63,
   "metadata": {},
   "outputs": [
    {
     "data": {
      "text/plain": [
       "[(0.99999999999999989+0j)]"
      ]
     },
     "execution_count": 63,
     "metadata": {},
     "output_type": "execute_result"
    }
   ],
   "source": [
    "[ simpleinner(v1, v2) for v1 in halffilled for v2 in halffilled]"
   ]
  },
  {
   "cell_type": "code",
   "execution_count": 60,
   "metadata": {
    "collapsed": true
   },
   "outputs": [
    {
     "data": {
      "text/plain": [
       "array([[  1.00000000e+00 +0.00000000e+00j,\n",
       "         -5.55111512e-17 -1.38777878e-17j,\n",
       "         -3.81639165e-17 +1.38777878e-17j,\n",
       "         -1.24900090e-16 -1.66533454e-16j,\n",
       "         -2.77555756e-17 -7.63278329e-17j],\n",
       "       [ -5.55111512e-17 +1.38777878e-17j,\n",
       "          1.00000000e+00 +0.00000000e+00j,\n",
       "         -3.46944695e-17 +4.16333634e-17j,\n",
       "         -1.07552856e-16 +1.73472348e-16j,\n",
       "         -2.08166817e-17 -4.16333634e-17j],\n",
       "       [ -3.81639165e-17 -1.38777878e-17j,\n",
       "         -3.46944695e-17 -4.16333634e-17j,\n",
       "          1.00000000e+00 +0.00000000e+00j,\n",
       "          1.40512602e-16 +9.02056208e-17j,\n",
       "         -1.38777878e-17 -2.42861287e-17j],\n",
       "       [ -1.24900090e-16 +1.66533454e-16j,\n",
       "         -1.07552856e-16 -1.73472348e-16j,\n",
       "          1.40512602e-16 -9.02056208e-17j,\n",
       "          1.00000000e+00 +0.00000000e+00j,\n",
       "         -1.73472348e-16 -9.02056208e-17j],\n",
       "       [ -2.77555756e-17 +7.63278329e-17j,\n",
       "         -2.08166817e-17 +4.16333634e-17j,\n",
       "         -1.38777878e-17 +2.42861287e-17j,\n",
       "         -1.73472348e-16 +9.02056208e-17j,\n",
       "          1.00000000e+00 +0.00000000e+00j]])"
      ]
     },
     "execution_count": 60,
     "metadata": {},
     "output_type": "execute_result"
    }
   ],
   "source": [
    "np.dot(halffilled[0], np.conj(halffilled[0].T))"
   ]
  },
  {
   "cell_type": "code",
   "execution_count": 74,
   "metadata": {},
   "outputs": [],
   "source": [
    "#Addition is simple\n",
    "def addA(v1, v2):\n",
    "    return v1 + v2\n",
    "def sMult(s, vs):\n",
    "    return [ s**(1.0/v.shape[0]) * v for v in vs]\n",
    "#apply single particle operator\n",
    "#creates N terms\n",
    "def apply1(A, vs):\n",
    "    newvs = []\n",
    "    for v in vs:\n",
    "        for partnum in range(v.shape[0]):\n",
    "            newv = np.copy(v)\n",
    "            newv[partnum,:] = A.dot(newv[partnum,:])\n",
    "            newvs.append(newv)\n",
    "    return newvs\n",
    "# apply AxAxAxAxA fullly factorized operator with identical pieces. Useful for basis change for example\n",
    "def applyfull(A, vs):\n",
    "    return [v.dot(A.T) for v in vs]\n",
    "\n",
    "#apply two particle operator factorized into form AxAxIxIxIxIxI\n",
    "# factor of two off for permutation?\n",
    "# creates N^2 terms\n",
    "def apply2factored(A, vs):\n",
    "    newvs = []\n",
    "    for v in vs:\n",
    "        for partnum1 in range(v.shape[0]):\n",
    "            for partnum2 in range(partnum1):\n",
    "                newv = np.copy(v)\n",
    "                newv[partnum1,:] = A.dot(newv[partnum1,:])\n",
    "                newv[partnum2,:] = A.dot(newv[partnum2,:])\n",
    "                newvs.append(newv)\n",
    "    return newvs\n",
    "\n",
    "# first factor V, then apply\n",
    "# brutal. But I don't know what else to do? NO Wait. I think there is something obvious\n",
    "def apply2(V, vs):\n",
    "    #U, s, V = np.linalg.svd(a, full_matrices=True)\n",
    "    # collect up matrices on each side\n",
    "    # assuming (part1out, part2out, part1in, part2in) to start\n",
    "    matV = np.transpose(V, (0, 2, 1, 3)).reshape((N*N,N*N))\n",
    "    # V will be symmettric since it should be symmettric between particles. hence eigh\n",
    "    # dot(a, v[:, i]) = w[i] * v[:, i]\n",
    "    eigvals , eigvecs = np.linalg.eigh(matV)\n",
    "    newvs = []\n",
    "    for j in range(N):\n",
    "        A = np.sqrt(eigvals[j]) * eigvecs[:,j].reshape((N,N))\n",
    "        newvs.append(apply2factored(A, vs))\n",
    "    return newvs\n",
    "    \n",
    "def apply2alt(V,vs):\n",
    "    newvs = []\n",
    "    for v in vs:\n",
    "        for partnum1 in range(v.shape[0]):\n",
    "            for partnum2 in range(partnum1):\n",
    "                v1 = v[partnum1,:]\n",
    "                v2 = v[partnum2,:]\n",
    "                Vv1v2 = np.einsum(V, [0,1,2,3], v1, [2], v3, [3]) #I assume einsum is smart enough to do this right.\n",
    "                \n",
    "                newvs.append(newv)\n",
    "    return newvs\n",
    "    \n",
    "    \n",
    "    "
   ]
  },
  {
   "cell_type": "code",
   "execution_count": 68,
   "metadata": {},
   "outputs": [],
   "source": [
    "test = sMult(1/np.sqrt(2), fermistate(N//2) + fermistate(N//2 + 1))"
   ]
  },
  {
   "cell_type": "code",
   "execution_count": 71,
   "metadata": {},
   "outputs": [
    {
     "data": {
      "text/plain": [
       "(1.0000000000000002-1.2650129249060071e-47j)"
      ]
     },
     "execution_count": 71,
     "metadata": {},
     "output_type": "execute_result"
    }
   ],
   "source": [
    "inner(test,test)"
   ]
  },
  {
   "cell_type": "code",
   "execution_count": 72,
   "metadata": {},
   "outputs": [
    {
     "data": {
      "text/plain": [
       "(0.70710678118654757-2.8922840219378037e-17j)"
      ]
     },
     "execution_count": 72,
     "metadata": {},
     "output_type": "execute_result"
    }
   ],
   "source": [
    "inner(test, halffilled)"
   ]
  },
  {
   "cell_type": "code",
   "execution_count": 76,
   "metadata": {},
   "outputs": [
    {
     "data": {
      "text/plain": [
       "(14.999999999999998-9.7144514654701136e-17j)"
      ]
     },
     "execution_count": 76,
     "metadata": {},
     "output_type": "execute_result"
    }
   ],
   "source": [
    "inner(halffilled, apply1(3*np.eye(N),halffilled))"
   ]
  },
  {
   "cell_type": "markdown",
   "metadata": {},
   "source": [
    "Try timing det on np.eye vs a random matrix to see how much that ground state is gonna hurt\n",
    "Factorize V into eigenvalue expansion. Then every application of V cost is proprtional to # of eigenvalues * Number of particles.\n",
    "Normal Ordering?"
   ]
  },
  {
   "cell_type": "markdown",
   "metadata": {},
   "source": [
    "Ok. This seems to be making sense. BUT. I'm obviously doing much more work than I have to still.\n",
    "The fact that we're usualy modifying only one entry.\n",
    "\n",
    "\n",
    "Ok. Yes. Special structure doe not help det it appears."
   ]
  },
  {
   "cell_type": "code",
   "execution_count": 83,
   "metadata": {},
   "outputs": [
    {
     "name": "stdout",
     "output_type": "stream",
     "text": [
      "453 ms ± 22.2 ms per loop (mean ± std. dev. of 7 runs, 1 loop each)\n"
     ]
    },
    {
     "name": "stderr",
     "output_type": "stream",
     "text": [
      "/usr/local/lib/python3.5/site-packages/numpy/linalg/linalg.py:1821: RuntimeWarning: overflow encountered in det\n",
      "  r = _umath_linalg.det(a, signature=signature)\n"
     ]
    },
    {
     "name": "stdout",
     "output_type": "stream",
     "text": [
      "458 ms ± 7.57 ms per loop (mean ± std. dev. of 7 runs, 1 loop each)\n"
     ]
    }
   ],
   "source": [
    "M =3000\n",
    "test = np.eye(M)\n",
    "%timeit np.linalg.det(test)\n",
    "test = np.random.randn(M,M)\n",
    "%timeit np.linalg.det(test)"
   ]
  },
  {
   "cell_type": "markdown",
   "metadata": {},
   "source": [
    "https://en.wikipedia.org/wiki/Matrix_determinant_lemma\n",
    "Matrix detemrinant lemma. If we precompute the inverse of the gramian,\n",
    "we can easily compute the determinants."
   ]
  },
  {
   "cell_type": "code",
   "execution_count": null,
   "metadata": {
    "collapsed": true
   },
   "outputs": [],
   "source": []
  }
 ],
 "metadata": {
  "kernelspec": {
   "display_name": "Python 3",
   "language": "python",
   "name": "python3"
  },
  "language_info": {
   "codemirror_mode": {
    "name": "ipython",
    "version": 3
   },
   "file_extension": ".py",
   "mimetype": "text/x-python",
   "name": "python",
   "nbconvert_exporter": "python",
   "pygments_lexer": "ipython3",
   "version": "3.5.1"
  }
 },
 "nbformat": 4,
 "nbformat_minor": 2
}
