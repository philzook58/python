{
 "cells": [
  {
   "cell_type": "code",
   "execution_count": 1,
   "metadata": {
    "collapsed": true
   },
   "outputs": [],
   "source": [
    "import numpy as np"
   ]
  },
  {
   "cell_type": "markdown",
   "metadata": {},
   "source": [
    "First the circle estimator"
   ]
  },
  {
   "cell_type": "code",
   "execution_count": 15,
   "metadata": {},
   "outputs": [
    {
     "name": "stdout",
     "output_type": "stream",
     "text": [
      "3.126\n"
     ]
    }
   ],
   "source": [
    "points = np.random.rand(2000,2) * 2 - 1\n",
    "rs = np.linalg.norm(points, axis=1)\n",
    "piguess = 4 * np.average(rs < 1.0)\n",
    "print(piguess)"
   ]
  },
  {
   "cell_type": "code",
   "execution_count": 16,
   "metadata": {
    "collapsed": true
   },
   "outputs": [],
   "source": [
    "errors = np.zeros(200)\n",
    "for nsample in range(1,200):\n",
    "    points = np.random.rand(2000, nsample, 2) * 2 - 1\n",
    "    rs = np.linalg.norm(points, axis=2)\n",
    "    piguess = 4 * np.average(rs < 1.0,axis =1)    \n",
    "    errors[nsample]=np.average((piguess-np.pi)**2)\n"
   ]
  },
  {
   "cell_type": "code",
   "execution_count": 17,
   "metadata": {
    "collapsed": true
   },
   "outputs": [],
   "source": [
    "import matplotlib.pyplot as plt\n",
    "%matplotlib inline"
   ]
  },
  {
   "cell_type": "code",
   "execution_count": 28,
   "metadata": {},
   "outputs": [
    {
     "name": "stderr",
     "output_type": "stream",
     "text": [
      "/usr/local/lib/python3.5/site-packages/ipykernel_launcher.py:4: RuntimeWarning: divide by zero encountered in true_divide\n",
      "  after removing the cwd from sys.path.\n"
     ]
    },
    {
     "data": {
      "image/png": "[encoded data removed]",
      "text/plain": [
       "<matplotlib.figure.Figure at 0x10dbad9b0>"
      ]
     },
     "metadata": {},
     "output_type": "display_data"
    }
   ],
   "source": [
    "\n",
    "expectedsqerror = (4 - np.pi)**2 * (np.pi/4)+ np.pi**2 * (4 - np.pi)/4\n",
    "plt.plot(errors)\n",
    "plt.plot(1/np.arange(200) * expectedsqerror)\n",
    "plt.yscale('log')\n",
    "plt.xscale('log')"
   ]
  },
  {
   "cell_type": "markdown",
   "metadata": {},
   "source": [
    "Nice. Lookin Good so far\n"
   ]
  },
  {
   "cell_type": "markdown",
   "metadata": {},
   "source": [
    "Importance Sampling\n",
    "Metropolis Sampling\n",
    "Rejection Sampling\n",
    " \n",
    "It's interesting I think that metropolis sampling may be viewable from a rejection sampling perspective. The rejection step of a suggested move\n"
   ]
  },
  {
   "cell_type": "markdown",
   "metadata": {},
   "source": [
    "If the underlying matrix is approximately low rank, sampling can work.\n",
    "Otherwise, can miss clutch points?\n",
    "see interpolative decomposition.\n",
    "\n",
    "How to find such a hierarchical structure?\n",
    "Use distance metric.\n",
    "Use K itself for clustering.\n",
    "We want to find (hierarchical) cluster labels such that the addition of the new point does not change the rank of the intercluster matrix much.\n",
    "Interesting Definition of distance maybe. Close things are the things you can know themost about.\n",
    "rank ~ dimensionless distance\n",
    "curvature and diff geo of rank?\n",
    "metric\n",
    "embedding of graph\n",
    "Metric from hierarchical deocomp of clustered point Gf.\n",
    "\n",
    "Regularization?\n",
    "\n",
    "use monte carlo to add correlation jastrow factors to my antisym? Correspond to quasi bosons. However, we're already using up the summation in going to the gramian, so where would the probablisitc summations come from?\n",
    "Perhaps writing the V factors in expontential as low rank sums, and use those sums for the porbability"
   ]
  },
  {
   "cell_type": "markdown",
   "metadata": {},
   "source": [
    "So building a matrix using random sampling\n",
    "\n",
    "Other ideas:\n",
    "Trade off between summation and sampling.\n",
    "Using a joint sampling distro instead of unique ones\n",
    "Markov chain monte carlo is an example. It's hard to sample from correlated high-d distros.\n",
    "\n",
    "Block matrices and Monte carlo\n",
    "\n",
    "Inverting a monte carlo matrix is the reverse process. Apparently requires detailed Balance condition?\n",
    "\n",
    "Importance sampling for a monte carlo process is a matrix decompoisiton. Probability matrices are column sum to 1. The weight matrix is diagonal usually? Or sparse, or only one nonzero element per column.\n",
    "A = WM\n",
    "\n",
    "The inverse markov process is easy? M*pi = p(i, i+1)\n",
    "P(i|i-1)P(i-1) = P(i,i-1)\n",
    "P(i-1|i)P(i) = P(i,i-1)\n",
    "tranpose and renormalize.\n",
    "\n",
    "Variational Monte Carlo - Ceperley mentions Feynman-Kac, Jastrow Slater form can be taken to higher order?\n"
   ]
  },
  {
   "cell_type": "code",
   "execution_count": 188,
   "metadata": {
    "collapsed": true
   },
   "outputs": [],
   "source": [
    "\n",
    "def freeG(x,y):\n",
    "    return np.log(np.linalg.norm(x-y,axis=0))\n",
    "#green's function in presence of metallic circle. Use image charge at conjugate point\n",
    "def circleG(x,y):\n",
    "    origin = np.zeros(2)\n",
    "    return freeG(x,y) - freeG(x,conjugate(y)) - freeG(origin, y) - freeG(x, origin)\n",
    "#conjugate point\n",
    "def conjugate(x):\n",
    "    return x/np.linalg.norm(x)**2\n"
   ]
  },
  {
   "cell_type": "markdown",
   "metadata": {},
   "source": [
    "Check the derivative is zero tangential to the circle"
   ]
  },
  {
   "cell_type": "code",
   "execution_count": 171,
   "metadata": {},
   "outputs": [
    {
     "data": {
      "text/plain": [
       "-1.8967873537957147"
      ]
     },
     "execution_count": 171,
     "metadata": {},
     "output_type": "execute_result"
    }
   ],
   "source": [
    "dx = 0.01\n",
    "(circleG(np.array([1.0,0.0]), np.array([0.4,-.23])) - circleG(np.array([1.0+dx,0.0]), np.array([0.4,-.23])))/dx"
   ]
  },
  {
   "cell_type": "code",
   "execution_count": 175,
   "metadata": {},
   "outputs": [
    {
     "data": {
      "text/plain": [
       "-4.5303017018427638e-05"
      ]
     },
     "execution_count": 175,
     "metadata": {},
     "output_type": "execute_result"
    }
   ],
   "source": [
    "dx = 0.0001\n",
    "(circleG(np.array([1.0,0.0]), np.array([0.4,-.23])) - circleG(np.array([1.0,dx]), np.array([0.4,-.23])))/dx"
   ]
  },
  {
   "cell_type": "markdown",
   "metadata": {},
   "source": [
    "Check the value is zero"
   ]
  },
  {
   "cell_type": "code",
   "execution_count": 174,
   "metadata": {},
   "outputs": [
    {
     "data": {
      "text/plain": [
       "-2.4980018054066022e-16"
      ]
     },
     "execution_count": 174,
     "metadata": {},
     "output_type": "execute_result"
    }
   ],
   "source": [
    "circleG(np.array([0.0,1.0]), np.array([0.8,-.23]))"
   ]
  },
  {
   "cell_type": "code",
   "execution_count": 157,
   "metadata": {},
   "outputs": [
    {
     "data": {
      "text/plain": [
       "array([ 0.33333333,  0.        ])"
      ]
     },
     "execution_count": 157,
     "metadata": {},
     "output_type": "execute_result"
    }
   ],
   "source": [
    "conjugate(np.array([3.0,0.0]))"
   ]
  },
  {
   "cell_type": "code",
   "execution_count": 262,
   "metadata": {
    "collapsed": true
   },
   "outputs": [],
   "source": [
    "angles,dtheta = np.linspace(0, 2*np.pi, 200,endpoint=False,retstep = True)\n",
    "dx = dtheta * 1"
   ]
  },
  {
   "cell_type": "code",
   "execution_count": 180,
   "metadata": {
    "collapsed": true
   },
   "outputs": [],
   "source": [
    "def circleposition(angles):\n",
    "    return np.array([np.cos(angles),np.sin(angles)])\n"
   ]
  },
  {
   "cell_type": "code",
   "execution_count": 354,
   "metadata": {},
   "outputs": [
    {
     "name": "stderr",
     "output_type": "stream",
     "text": [
      "/usr/local/lib/python3.5/site-packages/ipykernel_launcher.py:3: RuntimeWarning: divide by zero encountered in log\n",
      "  This is separate from the ipykernel package so we can avoid doing imports until\n"
     ]
    }
   ],
   "source": [
    "points = circleposition(angles)\n",
    "Gvals = freeG(points.reshape((2,1,-1)),points.reshape((2,-1,1))) * dx\n",
    "np.fill_diagonal(Gvals,0)# dx * np.log(dx) - dx)\n",
    "\n",
    "Gvalsdn = freeG(points.reshape((2,1,-1)),(0.999)*points.reshape((2,-1,1))) * dx\n",
    "dGdn = -(Gvalsdn - Gvals) / 0.001\n",
    "np.fill_diagonal(dGdn, np.pi)\n",
    "\n",
    "\n"
   ]
  },
  {
   "cell_type": "markdown",
   "metadata": {},
   "source": [
    "So hypothetically G should take... a surface charge distribution to field value"
   ]
  },
  {
   "cell_type": "code",
   "execution_count": 355,
   "metadata": {},
   "outputs": [
    {
     "name": "stdout",
     "output_type": "stream",
     "text": [
      "5.0448534239e-13\n",
      "-3.14156771281e-05\n"
     ]
    },
    {
     "data": {
      "image/png": "[encoded data removed]",
      "text/plain": [
       "<matplotlib.figure.Figure at 0x11b65b160>"
      ]
     },
     "metadata": {},
     "output_type": "display_data"
    }
   ],
   "source": [
    "# This should be an operator that takes phi on boundary to normal derivative?\n",
    "\n",
    "y = np.array([0.0,0.5])\n",
    "phiB = freeG(points,y.reshape(2,1))\n",
    "dphidn = np.linalg.inv(Gvals) @ dGdn @ phiB\n",
    "#print(dphidn)\n",
    "\n",
    "plt.plot(angles, dphidn, color='green')\n",
    "#finite difference calculations of normal derivatvie\n",
    "dphidn2 = (freeG(points*(1.00001),y.reshape(2,1)) - phiB) / 0.00001\n",
    "plt.plot(angles,dphidn2-1, color='blue')\n",
    "print(np.sum(dphidn))\n",
    "print(np.sum(dphidn2-1)*dx)\n",
    "#plt.plot(angles, phiB)\n"
   ]
  },
  {
   "cell_type": "code",
   "execution_count": null,
   "metadata": {
    "collapsed": true
   },
   "outputs": [],
   "source": []
  },
  {
   "cell_type": "code",
   "execution_count": 319,
   "metadata": {},
   "outputs": [
    {
     "name": "stdout",
     "output_type": "stream",
     "text": [
      "[[ 0.         -0.10871423 -0.08694225 ..., -0.07421064 -0.08694225\n",
      "  -0.10871423]\n",
      " [-0.10871423  0.         -0.10871423 ..., -0.06518189 -0.07421064\n",
      "  -0.08694225]\n",
      " [-0.08694225 -0.10871423  0.         ..., -0.05818326 -0.06518189\n",
      "  -0.07421064]\n",
      " ..., \n",
      " [-0.07421064 -0.06518189 -0.05818326 ...,  0.         -0.10871423\n",
      "  -0.08694225]\n",
      " [-0.08694225 -0.07421064 -0.06518189 ..., -0.10871423  0.         -0.10871423]\n",
      " [-0.10871423 -0.08694225 -0.07421064 ..., -0.08694225 -0.10871423  0.        ]]\n"
     ]
    }
   ],
   "source": [
    "print(Gvals)"
   ]
  },
  {
   "cell_type": "markdown",
   "metadata": {},
   "source": [
    "Working Pretty Well Shape wise. There seems to be a problem with overall shift and size. The integral equations come from assumption of no charge in interior.\n",
    "The integral if normal derivatvie gives charge by gauss law\n",
    "Hmmm. Ok that diagonal constant depends on the pi normalization. That makes sense."
   ]
  },
  {
   "cell_type": "code",
   "execution_count": 217,
   "metadata": {
    "collapsed": true
   },
   "outputs": [],
   "source": [
    "def altCircleG(x,y):\n",
    "    phi = freeG(points,y.reshape(2,1))\n",
    "    sigma = np.linalg.solve(Gvals, phi)\n",
    "    print(sigma)\n",
    "    return freeG(x,y) - freeG(x.reshape(2,1), points) @ sigma"
   ]
  },
  {
   "cell_type": "code",
   "execution_count": 244,
   "metadata": {},
   "outputs": [
    {
     "name": "stdout",
     "output_type": "stream",
     "text": [
      "[ 0.14762368  0.23008417  0.32870361  0.42535298  0.48230924  0.46707841\n",
      "  0.38911194  0.28811012  0.19486923  0.1201309   0.06348543  0.02123874\n",
      " -0.0103412  -0.03419063 -0.05243986 -0.06659403 -0.07771242 -0.08654509\n",
      " -0.0936288  -0.09935237 -0.10400088 -0.1077857  -0.11086499 -0.11335793\n",
      " -0.11535458 -0.11692284 -0.11811339 -0.11896311 -0.11949746 -0.11973209\n",
      " -0.11967379 -0.11932088 -0.11866311 -0.11768107 -0.11634495 -0.11461273\n",
      " -0.11242734 -0.10971271 -0.10636815 -0.10226032 -0.09721183 -0.0909848\n",
      " -0.08325705 -0.07358702 -0.06136215 -0.04572261 -0.02545016  0.00118639\n",
      "  0.03662081  0.08413235]\n"
     ]
    },
    {
     "data": {
      "text/plain": [
       "3.7554101474628481"
      ]
     },
     "execution_count": 244,
     "metadata": {},
     "output_type": "execute_result"
    }
   ],
   "source": [
    "altCircleG(np.array([0.97,0.0]), np.array([0.5,0.3]))"
   ]
  },
  {
   "cell_type": "markdown",
   "metadata": {},
   "source": [
    "Use direct conjugate y for comparison wothout having to subtract off."
   ]
  },
  {
   "cell_type": "code",
   "execution_count": 351,
   "metadata": {},
   "outputs": [
    {
     "name": "stdout",
     "output_type": "stream",
     "text": [
      "1.5848874455e-14\n",
      "8.82056830493e-12\n"
     ]
    },
    {
     "data": {
      "image/png": "[encoded data removed]",
      "text/plain": [
       "<matplotlib.figure.Figure at 0x11b8f21d0>"
      ]
     },
     "metadata": {},
     "output_type": "display_data"
    }
   ],
   "source": [
    "# This should be an operator that takes phi on boundary to normal derivative?\n",
    "\n",
    "y = np.array([0.0,0.5])\n",
    "phiB = freeG(points,y.reshape(2,1))\n",
    "dphidn = np.linalg.inv(Gvals) @ dGdn @ phiB\n",
    "#print(dphidn)\n",
    "\n",
    "plt.plot(angles, dphidn, color='green')\n",
    "#finite difference calculations of normal derivatvie\n",
    "phiB = freeG(points,conjugate(y).reshape(2,1))\n",
    "dphidn2 = -(freeG(points*(1.00001),conjugate(y).reshape(2,1)) - phiB) / 0.00001\n",
    "plt.plot(angles,dphidn2, color='blue')\n",
    "print(np.sum(dphidn)*dx)\n",
    "print(np.sum(dphidn2)*dx)\n",
    "#plt.plot(angles, phiB)"
   ]
  },
  {
   "cell_type": "markdown",
   "metadata": {},
   "source": [
    "Strong oscillations appear as you approach the boundary\n",
    "They match until charge goes outside boundary. Probably due to sign of normal derivtative?"
   ]
  },
  {
   "cell_type": "code",
   "execution_count": 215,
   "metadata": {},
   "outputs": [
    {
     "data": {
      "text/plain": [
       "0.12566370614359174"
      ]
     },
     "execution_count": 215,
     "metadata": {},
     "output_type": "execute_result"
    }
   ],
   "source": [
    "dtheta"
   ]
  },
  {
   "cell_type": "markdown",
   "metadata": {},
   "source": [
    "I'm confused somewhere in here. Ok. So a "
   ]
  },
  {
   "cell_type": "code",
   "execution_count": 220,
   "metadata": {
    "collapsed": true
   },
   "outputs": [],
   "source": [
    "def greenRep(x,phi):\n",
    "    #phi = freeG(points,y.reshape(2,1))\n",
    "    sigma = np.linalg.solve(Gvals, phi)\n",
    "    return freeG(x.reshape(2,1), points) @ sigma"
   ]
  },
  {
   "cell_type": "code",
   "execution_count": null,
   "metadata": {
    "collapsed": true
   },
   "outputs": [],
   "source": [
    "\n",
    "\n",
    "def altCircleG2(x,y):\n",
    "    phi = freeG(points,y.reshape(2,1))\n",
    "    sigma = np.linalg.solve(Gvals, phi)\n",
    "    print(sigma)\n",
    "    return freeG(x,y) - freeG(x.reshape(2,1), points) @ sigma"
   ]
  },
  {
   "cell_type": "code",
   "execution_count": null,
   "metadata": {
    "collapsed": true
   },
   "outputs": [],
   "source": [
    "#Comparison to FEM? To show actually working\n",
    "# More exact solution comparisons? I have some 2D exact, but how many 3d do I have?\n",
    "# restriction from square domain.\n",
    "ExteriorProj = np.diag(f(xs,ys) > 0) \n",
    "InteriorProj = np.diag(f(xs, ys) < 0) \n",
    "BoundaryProj = np.diag(f(xs, ys) == 0) \n"
   ]
  },
  {
   "cell_type": "markdown",
   "metadata": {},
   "source": [
    "Put into double integral form. Pick 2 points from joint distribution with probability that is local rank density? (Whatever that means.)\n",
    "And probably do everything symmettrically between them.\n",
    "or smaple from big joint distro that?"
   ]
  },
  {
   "cell_type": "markdown",
   "metadata": {},
   "source": [
    "Green's theorem:\n",
    "Derivatvie is anturally a rectangular operator.\n",
    "A - A^T = boundary terms\n",
    "if A is the pure rectangular operator\n"
   ]
  },
  {
   "cell_type": "markdown",
   "metadata": {},
   "source": [
    "What is the BEM?\n",
    "Ordinary \n",
    "I have been conceiving it as a fixup for the free Green's function\n",
    "\n",
    "The 1-d case is the simplest usually\n",
    "The 1d case of the BEM is so stupid. But maybe that is why I should do it\n",
    "\n",
    "\n",
    "The semantics of the Green's identity?\n",
    "\n",
    "\n",
    "\n",
    "A functional interface for the boundary values\n",
    "A functional interface for interior values.\n",
    "BEM(boundary values) -> u(x) \n",
    "It IS linear in these boundary values however.\n",
    "So the impulse Boundary values response \n",
    "BEM = [u(x)]\n",
    "which is a matrix kind of. One index (the list index) on the boundary, one (a functional index) in the interior\n",
    "BEM = u(x,gamma)\n",
    "where integration with respect to gamma.\n",
    "This feels weird compared to G. u is dimensionless? Since boudnary values already have dimension of field\n",
    "G = G0 - u @ G0\n",
    "where the @ is summation on boundary gamma\n",
    "u can be converted to neumann value extension matrix via precompositon with dirichlet to neumann operator\n",
    "Effective boundary source terms due to interior sources?\n",
    "\n",
    "\n",
    "The dirichlet to neumann operator\n",
    "\n",
    "\n",
    "Block decomposition of interior and boundary\n",
    "\n",
    "The circle\n",
    "The square grid\n",
    "The sphere"
   ]
  },
  {
   "cell_type": "markdown",
   "metadata": {},
   "source": [
    "## Particle Filter"
   ]
  },
  {
   "cell_type": "markdown",
   "metadata": {},
   "source": [
    "Doesn't the particle filter feel like a good use for erlang? Every process flying around keeps track of a particle.\n",
    "Asynchronous duplication and death with chemical potential keeping the number about right.\n",
    "Would be pretty cool for insane scale particle filters."
   ]
  },
  {
   "cell_type": "code",
   "execution_count": 107,
   "metadata": {
    "collapsed": true
   },
   "outputs": [],
   "source": [
    "nparticles = 1000\n",
    "dstate = 3\n",
    "prior = np.random.rand(dstate, nparticles)\n",
    "\n",
    "def dynamicstep(prior, dt):\n",
    "    return prior +  0.1 * np.random.randn(dstate, nparticles) # applying p(x_t+1 | x_t)\n",
    "\n",
    "def observation(y, guesses):\n",
    "    weights = np.exp(-(y-guesses)**2) #w = p(y|x)\n",
    "    return weights\n",
    "\n",
    "def resample(weights, prior):\n",
    "    #cumweights = np.cumsum(weights)\n",
    "    #cumweights = cumweights/cumweights[-1]\n",
    "    #= np.random.rand(nparticles).sort()\n",
    "    return np.random.choice(prior, nparticles, p=weights/np.sum(weights))\n",
    "    \n",
    "    \n",
    "    \n"
   ]
  },
  {
   "cell_type": "markdown",
   "metadata": {},
   "source": [
    "## Delay Estimation"
   ]
  },
  {
   "cell_type": "code",
   "execution_count": 45,
   "metadata": {
    "collapsed": true
   },
   "outputs": [],
   "source": [
    "T = 100.0\n",
    "N = 100000\n",
    "ts = np.linspace(0,T,N)\n",
    "dt = T/N"
   ]
  },
  {
   "cell_type": "code",
   "execution_count": 30,
   "metadata": {
    "collapsed": true
   },
   "outputs": [],
   "source": [
    "def upconvert(I, Q, f):\n",
    "    return np.sin(f* np.pi * 2 * ts) * I + np.cos(f* np.pi * 2 * ts) * Q\n",
    "\n",
    "def downconvert(sig, f):\n",
    "    return np.sin(f* np.pi * 2 * ts) * sig,  np.cos(f* np.pi * 2 * ts) * sig\n"
   ]
  },
  {
   "cell_type": "code",
   "execution_count": 50,
   "metadata": {
    "collapsed": true
   },
   "outputs": [],
   "source": [
    "sig = np.sin(ts)"
   ]
  },
  {
   "cell_type": "code",
   "execution_count": 57,
   "metadata": {
    "collapsed": true
   },
   "outputs": [],
   "source": [
    "def delay(sig, tau):\n",
    "    a = int(tau//dt)\n",
    "    return np.concatenate( (sig[-a:], sig[:N-a]))"
   ]
  },
  {
   "cell_type": "code",
   "execution_count": 59,
   "metadata": {
    "collapsed": true
   },
   "outputs": [],
   "source": [
    "observedSig = delay(sig,1)"
   ]
  },
  {
   "cell_type": "code",
   "execution_count": 58,
   "metadata": {},
   "outputs": [
    {
     "data": {
      "text/plain": [
       "(100000,)"
      ]
     },
     "execution_count": 58,
     "metadata": {},
     "output_type": "execute_result"
    }
   ],
   "source": [
    "delay(sig,1).shape"
   ]
  },
  {
   "cell_type": "code",
   "execution_count": 52,
   "metadata": {},
   "outputs": [
    {
     "data": {
      "text/plain": [
       "(100000,)"
      ]
     },
     "execution_count": 52,
     "metadata": {},
     "output_type": "execute_result"
    }
   ],
   "source": [
    "sig.shape"
   ]
  },
  {
   "cell_type": "code",
   "execution_count": 62,
   "metadata": {},
   "outputs": [
    {
     "data": {
      "text/plain": [
       "(199999,)"
      ]
     },
     "execution_count": 62,
     "metadata": {},
     "output_type": "execute_result"
    }
   ],
   "source": [
    "signal.correlate(sig,observedSig).shape"
   ]
  },
  {
   "cell_type": "code",
   "execution_count": 60,
   "metadata": {
    "collapsed": true
   },
   "outputs": [],
   "source": [
    "import scipy.signal as signal"
   ]
  },
  {
   "cell_type": "code",
   "execution_count": 77,
   "metadata": {},
   "outputs": [
    {
     "data": {
      "text/plain": [
       "[<matplotlib.lines.Line2D at 0x11255ce10>]"
      ]
     },
     "execution_count": 77,
     "metadata": {},
     "output_type": "execute_result"
    },
    {
     "data": {
      "image/png": "[encoded data removed]",
      "text/plain": [
       "<matplotlib.figure.Figure at 0x110105f28>"
      ]
     },
     "metadata": {},
     "output_type": "display_data"
    }
   ],
   "source": [
    "observedSig = delay(sig,4) + 10 * np.random.randn(N) \n",
    "plt.plot(ts[:10000], signal.correlate(observedSig,sig)[N:N+10000])"
   ]
  },
  {
   "cell_type": "code",
   "execution_count": 78,
   "metadata": {},
   "outputs": [
    {
     "data": {
      "text/plain": [
       "[<matplotlib.lines.Line2D at 0x11263dac8>]"
      ]
     },
     "execution_count": 78,
     "metadata": {},
     "output_type": "execute_result"
    },
    {
     "data": {
      "image/png": "[encoded data removed]",
      "text/plain": [
       "<matplotlib.figure.Figure at 0x10c8d1940>"
      ]
     },
     "metadata": {},
     "output_type": "display_data"
    }
   ],
   "source": [
    "plt.plot(ts,sig)"
   ]
  },
  {
   "cell_type": "code",
   "execution_count": 79,
   "metadata": {},
   "outputs": [
    {
     "data": {
      "text/plain": [
       "[<matplotlib.lines.Line2D at 0x112998a58>]"
      ]
     },
     "execution_count": 79,
     "metadata": {},
     "output_type": "execute_result"
    },
    {
     "data": {
      "image/png": "[encoded data removed]",
      "text/plain": [
       "<matplotlib.figure.Figure at 0x112586048>"
      ]
     },
     "metadata": {},
     "output_type": "display_data"
    }
   ],
   "source": [
    "plt.plot(ts,observedSig)"
   ]
  },
  {
   "cell_type": "code",
   "execution_count": 86,
   "metadata": {},
   "outputs": [
    {
     "data": {
      "text/plain": [
       "[<matplotlib.lines.Line2D at 0x116661128>]"
      ]
     },
     "execution_count": 86,
     "metadata": {},
     "output_type": "execute_result"
    },
    {
     "data": {
      "image/png": "[encoded data removed]",
      "text/plain": [
       "<matplotlib.figure.Figure at 0x1129b5c88>"
      ]
     },
     "metadata": {},
     "output_type": "display_data"
    }
   ],
   "source": [
    "plt.plot(signal.correlate(observedSig[:50000],sig[:1000]))"
   ]
  },
  {
   "cell_type": "code",
   "execution_count": 106,
   "metadata": {},
   "outputs": [
    {
     "data": {
      "text/plain": [
       "[<matplotlib.lines.Line2D at 0x118699ef0>]"
      ]
     },
     "execution_count": 106,
     "metadata": {},
     "output_type": "execute_result"
    },
    {
     "data": {
      "image/png": "[encoded data removed]",
      "text/plain": [
       "<matplotlib.figure.Figure at 0x1137d5160>"
      ]
     },
     "metadata": {},
     "output_type": "display_data"
    }
   ],
   "source": [
    "N = 1000\n",
    "sig = np.random.randn(N)\n",
    "observedSig = delay(sig,4) + 10 * np.random.randn(N) \n",
    "power = np.log(np.abs(signal.correlate(observedSig,sig)))\n",
    "plt.plot(ts[:2*N-1],power)"
   ]
  },
  {
   "cell_type": "markdown",
   "metadata": {},
   "source": [
    "You need to sample enough to pull out of noise floor. Long sample times need good local clock accuracy though."
   ]
  },
  {
   "cell_type": "code",
   "execution_count": 102,
   "metadata": {},
   "outputs": [
    {
     "data": {
      "text/plain": [
       "(100000,)"
      ]
     },
     "execution_count": 102,
     "metadata": {},
     "output_type": "execute_result"
    }
   ],
   "source": [
    "sig.shape"
   ]
  },
  {
   "cell_type": "code",
   "execution_count": 103,
   "metadata": {},
   "outputs": [
    {
     "data": {
      "text/plain": [
       "(100000,)"
      ]
     },
     "execution_count": 103,
     "metadata": {},
     "output_type": "execute_result"
    }
   ],
   "source": [
    "observedSig.shape"
   ]
  },
  {
   "cell_type": "code",
   "execution_count": 104,
   "metadata": {},
   "outputs": [
    {
     "data": {
      "text/plain": [
       "(199999,)"
      ]
     },
     "execution_count": 104,
     "metadata": {},
     "output_type": "execute_result"
    }
   ],
   "source": [
    "power.shape"
   ]
  },
  {
   "cell_type": "markdown",
   "metadata": {},
   "source": [
    "Phase Noise - local time uncertainty in the downsampling process."
   ]
  },
  {
   "cell_type": "markdown",
   "metadata": {},
   "source": [
    "Bandwidth - Gives you total range of time uncertainty - shift by one period?"
   ]
  }
 ],
 "metadata": {
  "kernelspec": {
   "display_name": "Python 3",
   "language": "python",
   "name": "python3"
  },
  "language_info": {
   "codemirror_mode": {
    "name": "ipython",
    "version": 3
   },
   "file_extension": ".py",
   "mimetype": "text/x-python",
   "name": "python",
   "nbconvert_exporter": "python",
   "pygments_lexer": "ipython3",
   "version": "3.6.3"
  }
 },
 "nbformat": 4,
 "nbformat_minor": 2
}
