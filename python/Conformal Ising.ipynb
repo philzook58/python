{
 "cells": [
  {
   "cell_type": "code",
   "execution_count": 2,
   "metadata": {
    "collapsed": true
   },
   "outputs": [],
   "source": [
    "import numpy as np\n"
   ]
  },
  {
   "cell_type": "code",
   "execution_count": 87,
   "metadata": {
    "collapsed": true
   },
   "outputs": [],
   "source": [
    "@jit\n",
    "def mc_step(config, beta):\n",
    "    #suggest move\n",
    "    # should we suggest many moves? \n",
    "    #alternatives include: take a row, take a column, take a random subset of points\n",
    "    # randomly flip all points\n",
    "    # \n",
    "    #E = H(config)\n",
    "    i, j = np.random.randint(-1,N-1, size=2)\n",
    "    \n",
    "    #config[i,j] *= -1\n",
    "    #Enew = H(config)\n",
    "    dE = -1 * (config[i+1, j] + config[i, j-1]  + config[i-1, j]  + config[i, j-1]) * config[i,j]\n",
    "    if dE < 0:\n",
    "        return config\n",
    "    elif  np.random.rand() < np.exp(-beta * dE):\n",
    "        return config\n",
    "    else:\n",
    "        config[i,j] *= -1\n",
    "        return config\n",
    "\n",
    "    "
   ]
  },
  {
   "cell_type": "code",
   "execution_count": 112,
   "metadata": {},
   "outputs": [],
   "source": [
    "N = 100\n",
    "config = np.random.randint(0,2, size=(N,N))*2-1\n",
    "\n",
    "ks = 2 * np.pi * np.arange(N) / N\n",
    "kx, ky = np.meshgrid(ks,ks)\n",
    "stencil = np.exp(1.j * kx) + np.exp(-1.j * kx) + np.exp(1.j * ky) + np.exp(-1.j * ky)\n",
    "    \n",
    "def H(config):\n",
    "    #fast convolution method\n",
    "\n",
    "    E = np.sum(config * np.fft.ifft2 (stencil * np.fft.fft2(config)))\n",
    "    return E\n",
    "\n",
    "def H2(config, neighbors):\n",
    "    kx, ky = np.meshgrid()\n",
    "    stencil = np.exp(1.j * kx) + np.exp(-1.j * kx) + np.exp(1.j * ky) + np.exp(-1.j * ky)\n",
    "    E = np.sum(config * np.fft.ifft2 (stencil * np.fft.fft2(config)))\n",
    "    return E\n"
   ]
  },
  {
   "cell_type": "code",
   "execution_count": 6,
   "metadata": {
    "collapsed": true
   },
   "outputs": [],
   "source": [
    "import matplotlib.pyplot as plt\n",
    "%matplotlib inline\n"
   ]
  },
  {
   "cell_type": "markdown",
   "metadata": {},
   "source": [
    "Downsample and scale"
   ]
  },
  {
   "cell_type": "code",
   "execution_count": 61,
   "metadata": {},
   "outputs": [
    {
     "data": {
      "text/plain": [
       "<matplotlib.image.AxesImage at 0x116429b00>"
      ]
     },
     "execution_count": 61,
     "metadata": {},
     "output_type": "execute_result"
    },
    {
     "data": {
      "image/png": "[encoded data removed]",
      "text/plain": [
       "<matplotlib.figure.Figure at 0x1164371d0>"
      ]
     },
     "metadata": {},
     "output_type": "display_data"
    }
   ],
   "source": [
    "plt.imshow(config)"
   ]
  },
  {
   "cell_type": "code",
   "execution_count": 105,
   "metadata": {
    "collapsed": true
   },
   "outputs": [],
   "source": [
    "critT = 10.0\n"
   ]
  },
  {
   "cell_type": "code",
   "execution_count": 55,
   "metadata": {
    "collapsed": true
   },
   "outputs": [],
   "source": [
    "from numba import jit\n"
   ]
  },
  {
   "cell_type": "code",
   "execution_count": 113,
   "metadata": {},
   "outputs": [],
   "source": [
    "@jit\n",
    "def do_many_steps(config):\n",
    "    for i in range(N*N*N):\n",
    "        config = mc_step(config, 1.0/critT)\n",
    "    return config"
   ]
  },
  {
   "cell_type": "code",
   "execution_count": 120,
   "metadata": {},
   "outputs": [],
   "source": [
    "config = do_many_steps(config)"
   ]
  },
  {
   "cell_type": "code",
   "execution_count": 121,
   "metadata": {},
   "outputs": [
    {
     "data": {
      "text/plain": [
       "<matplotlib.image.AxesImage at 0x110849400>"
      ]
     },
     "execution_count": 121,
     "metadata": {},
     "output_type": "execute_result"
    },
    {
     "data": {
      "image/png": "[encoded data removed]",
      "text/plain": [
       "<matplotlib.figure.Figure at 0x11657a908>"
      ]
     },
     "metadata": {},
     "output_type": "display_data"
    }
   ],
   "source": [
    "plt.imshow(config)"
   ]
  },
  {
   "cell_type": "markdown",
   "metadata": {},
   "source": [
    "If we are doing conformal transformations, it would be convenient to work on the sphere, since we have the nice stereographic projection to work with. But then there is a question of how to discretize the sphere. Should the coupling parameters depend on the scaling factor associated with the stereographic projection?\n",
    "Or... We could work with conformal trasnfromations on the torus, which I don't really know how to do."
   ]
  },
  {
   "cell_type": "markdown",
   "metadata": {},
   "source": [
    "Given a symmettry of the theory, how can we use this fact in a monte carlo setting? Reduction of configuration space?\n",
    "Collecting statistics of symmettry related pieces to lessen sampling requirements?\n",
    "Change monte carlo suggestion procedure?"
   ]
  },
  {
   "cell_type": "code",
   "execution_count": null,
   "metadata": {
    "collapsed": true
   },
   "outputs": [],
   "source": []
  }
 ],
 "metadata": {
  "kernelspec": {
   "display_name": "Python 3",
   "language": "python",
   "name": "python3"
  },
  "language_info": {
   "codemirror_mode": {
    "name": "ipython",
    "version": 3
   },
   "file_extension": ".py",
   "mimetype": "text/x-python",
   "name": "python",
   "nbconvert_exporter": "python",
   "pygments_lexer": "ipython3",
   "version": "3.5.1"
  }
 },
 "nbformat": 4,
 "nbformat_minor": 2
}
