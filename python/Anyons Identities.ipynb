{
 "cells": [
  {
   "cell_type": "code",
   "execution_count": null,
   "metadata": {
    "collapsed": true,
    "deletable": true,
    "editable": true
   },
   "outputs": [],
   "source": [
    "\n",
    "R[]\n",
    "\n",
    "def validTreeLabel(tree):\n",
    "    left = tree[0]\n",
    "    right = tree[2]\n",
    "    return validTreeLabel(left) and validTreeLabel(right)\n",
    "\n",
    "def enumerateTreeLabel(treestructure):\n",
    "\n",
    "def F(a,b,c,d):\n",
    "    return np.array()\n",
    "\n",
    "def complete(R):\n",
    "\n",
    "def FRtoB(F,R):\n",
    "    B = \n",
    "    return B"
   ]
  }
 ],
 "metadata": {
  "kernelspec": {
   "display_name": "Python 3",
   "language": "python",
   "name": "python3"
  },
  "language_info": {
   "codemirror_mode": {
    "name": "ipython",
    "version": 3
   },
   "file_extension": ".py",
   "mimetype": "text/x-python",
   "name": "python",
   "nbconvert_exporter": "python",
   "pygments_lexer": "ipython3",
   "version": "3.5.2"
  }
 },
 "nbformat": 4,
 "nbformat_minor": 2
}
